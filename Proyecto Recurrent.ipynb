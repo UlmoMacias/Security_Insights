{
 "cells": [
  {
   "cell_type": "markdown",
   "metadata": {},
   "source": [
    "# Proyecto"
   ]
  },
  {
   "cell_type": "markdown",
   "metadata": {},
   "source": [
    "Objetivo: Analizar la seguridad de contraseñas con base en la lista de contraseñas y su frecuencia de uso"
   ]
  },
  {
   "cell_type": "code",
   "execution_count": 57,
   "metadata": {
    "ExecuteTime": {
     "end_time": "2021-01-23T19:15:35.423798Z",
     "start_time": "2021-01-23T19:15:35.419626Z"
    }
   },
   "outputs": [],
   "source": [
    "import pandas as pd\n",
    "import matplotlib.pyplot as plt\n",
    "import numpy as np\n",
    "import seaborn as sns\n",
    "from numpy import random\n",
    "from torch.multiprocessing import Process, Queue, Lock\n",
    "import multiprocessing as mp\n",
    "import random\n"
   ]
  },
  {
   "cell_type": "code",
   "execution_count": 58,
   "metadata": {
    "ExecuteTime": {
     "end_time": "2021-01-23T19:15:38.075870Z",
     "start_time": "2021-01-23T19:15:35.427380Z"
    }
   },
   "outputs": [
    {
     "data": {
      "text/html": [
       "<div>\n",
       "<style scoped>\n",
       "    .dataframe tbody tr th:only-of-type {\n",
       "        vertical-align: middle;\n",
       "    }\n",
       "\n",
       "    .dataframe tbody tr th {\n",
       "        vertical-align: top;\n",
       "    }\n",
       "\n",
       "    .dataframe thead th {\n",
       "        text-align: right;\n",
       "    }\n",
       "</style>\n",
       "<table border=\"1\" class=\"dataframe\">\n",
       "  <thead>\n",
       "    <tr style=\"text-align: right;\">\n",
       "      <th></th>\n",
       "      <th>password</th>\n",
       "      <th>hash</th>\n",
       "      <th>count</th>\n",
       "    </tr>\n",
       "  </thead>\n",
       "  <tbody>\n",
       "    <tr>\n",
       "      <th>0</th>\n",
       "      <td>1980290</td>\n",
       "      <td>083040BB6B1D95F2B8AC447B50D21DAB38DAFF16</td>\n",
       "      <td>13</td>\n",
       "    </tr>\n",
       "    <tr>\n",
       "      <th>1</th>\n",
       "      <td>tornadof</td>\n",
       "      <td>0A7709AD9837766F20156FF016ABF66F8036ABC1</td>\n",
       "      <td>13</td>\n",
       "    </tr>\n",
       "    <tr>\n",
       "      <th>2</th>\n",
       "      <td>vova87654</td>\n",
       "      <td>66221A7691CDC27D9D31071A0CFA0712C100C7D7</td>\n",
       "      <td>13</td>\n",
       "    </tr>\n",
       "    <tr>\n",
       "      <th>3</th>\n",
       "      <td>XpKvShrO</td>\n",
       "      <td>4CB7086C94AE4D82E519FF8F98D0DA1DA38DBE53</td>\n",
       "      <td>13</td>\n",
       "    </tr>\n",
       "    <tr>\n",
       "      <th>4</th>\n",
       "      <td>tvjgtl</td>\n",
       "      <td>9E1FD26A17D2EBE7C9FD4181EF49424C7091D484</td>\n",
       "      <td>13</td>\n",
       "    </tr>\n",
       "    <tr>\n",
       "      <th>...</th>\n",
       "      <td>...</td>\n",
       "      <td>...</td>\n",
       "      <td>...</td>\n",
       "    </tr>\n",
       "    <tr>\n",
       "      <th>6840</th>\n",
       "      <td>491144</td>\n",
       "      <td>4511C39CDA1EFE76964C79783B52053BA7CD09DD</td>\n",
       "      <td>69</td>\n",
       "    </tr>\n",
       "    <tr>\n",
       "      <th>6841</th>\n",
       "      <td>xeyfhm3477362341</td>\n",
       "      <td>E2EC663D721E9F22F5CF39D5AA27A89CE00172D0</td>\n",
       "      <td>69</td>\n",
       "    </tr>\n",
       "    <tr>\n",
       "      <th>6842</th>\n",
       "      <td>irontree4</td>\n",
       "      <td>350AA827594B47AF3BCB9256E2388EFB958C4529</td>\n",
       "      <td>69</td>\n",
       "    </tr>\n",
       "    <tr>\n",
       "      <th>6843</th>\n",
       "      <td>wh2t3v3r</td>\n",
       "      <td>221C76F1C2AD5883003AF5EB7A495A41580B87C5</td>\n",
       "      <td>69</td>\n",
       "    </tr>\n",
       "    <tr>\n",
       "      <th>6844</th>\n",
       "      <td>santomas</td>\n",
       "      <td>510B26B12A43531A14333545C6D802E47FA411AC</td>\n",
       "      <td>69</td>\n",
       "    </tr>\n",
       "  </tbody>\n",
       "</table>\n",
       "<p>677568 rows × 3 columns</p>\n",
       "</div>"
      ],
      "text/plain": [
       "              password                                      hash  count\n",
       "0              1980290  083040BB6B1D95F2B8AC447B50D21DAB38DAFF16     13\n",
       "1             tornadof  0A7709AD9837766F20156FF016ABF66F8036ABC1     13\n",
       "2            vova87654  66221A7691CDC27D9D31071A0CFA0712C100C7D7     13\n",
       "3             XpKvShrO  4CB7086C94AE4D82E519FF8F98D0DA1DA38DBE53     13\n",
       "4               tvjgtl  9E1FD26A17D2EBE7C9FD4181EF49424C7091D484     13\n",
       "...                ...                                       ...    ...\n",
       "6840            491144  4511C39CDA1EFE76964C79783B52053BA7CD09DD     69\n",
       "6841  xeyfhm3477362341  E2EC663D721E9F22F5CF39D5AA27A89CE00172D0     69\n",
       "6842         irontree4  350AA827594B47AF3BCB9256E2388EFB958C4529     69\n",
       "6843          wh2t3v3r  221C76F1C2AD5883003AF5EB7A495A41580B87C5     69\n",
       "6844          santomas  510B26B12A43531A14333545C6D802E47FA411AC     69\n",
       "\n",
       "[677568 rows x 3 columns]"
      ]
     },
     "execution_count": 58,
     "metadata": {},
     "output_type": "execute_result"
    }
   ],
   "source": [
    "data =pd.read_csv('passwords/pass (1).csv')\n",
    "for i in range(2,100):\n",
    "    filename = pd.read_csv('passwords/pass ('+str(i)+').csv')\n",
    "    data = pd.concat([data,filename],axis=0)\n",
    "data"
   ]
  },
  {
   "cell_type": "code",
   "execution_count": 59,
   "metadata": {
    "ExecuteTime": {
     "end_time": "2021-01-23T19:15:38.135504Z",
     "start_time": "2021-01-23T19:15:38.077501Z"
    }
   },
   "outputs": [
    {
     "data": {
      "text/plain": [
       "password    2\n",
       "hash        0\n",
       "count       0\n",
       "dtype: int64"
      ]
     },
     "execution_count": 59,
     "metadata": {},
     "output_type": "execute_result"
    }
   ],
   "source": [
    "data.isnull().sum()"
   ]
  },
  {
   "cell_type": "code",
   "execution_count": 60,
   "metadata": {
    "ExecuteTime": {
     "end_time": "2021-01-23T19:15:38.272839Z",
     "start_time": "2021-01-23T19:15:38.137358Z"
    }
   },
   "outputs": [
    {
     "data": {
      "text/plain": [
       "password    0\n",
       "hash        0\n",
       "count       0\n",
       "dtype: int64"
      ]
     },
     "execution_count": 60,
     "metadata": {},
     "output_type": "execute_result"
    }
   ],
   "source": [
    "data = data.dropna(axis=0)\n",
    "data.isnull().sum()"
   ]
  },
  {
   "cell_type": "code",
   "execution_count": 61,
   "metadata": {
    "ExecuteTime": {
     "end_time": "2021-01-23T19:15:39.758850Z",
     "start_time": "2021-01-23T19:15:38.273980Z"
    }
   },
   "outputs": [
    {
     "name": "stdout",
     "output_type": "stream",
     "text": [
      "(677566, 2)\n"
     ]
    },
    {
     "data": {
      "text/html": [
       "<div>\n",
       "<style scoped>\n",
       "    .dataframe tbody tr th:only-of-type {\n",
       "        vertical-align: middle;\n",
       "    }\n",
       "\n",
       "    .dataframe tbody tr th {\n",
       "        vertical-align: top;\n",
       "    }\n",
       "\n",
       "    .dataframe thead th {\n",
       "        text-align: right;\n",
       "    }\n",
       "</style>\n",
       "<table border=\"1\" class=\"dataframe\">\n",
       "  <thead>\n",
       "    <tr style=\"text-align: right;\">\n",
       "      <th></th>\n",
       "      <th>password</th>\n",
       "      <th>count</th>\n",
       "    </tr>\n",
       "  </thead>\n",
       "  <tbody>\n",
       "    <tr>\n",
       "      <th>0</th>\n",
       "      <td>!!!!!</td>\n",
       "      <td>401</td>\n",
       "    </tr>\n",
       "    <tr>\n",
       "      <th>1</th>\n",
       "      <td>!!!!!!</td>\n",
       "      <td>2304</td>\n",
       "    </tr>\n",
       "    <tr>\n",
       "      <th>2</th>\n",
       "      <td>!!!!!!!</td>\n",
       "      <td>386</td>\n",
       "    </tr>\n",
       "    <tr>\n",
       "      <th>3</th>\n",
       "      <td>!12345</td>\n",
       "      <td>312</td>\n",
       "    </tr>\n",
       "    <tr>\n",
       "      <th>4</th>\n",
       "      <td>!23456</td>\n",
       "      <td>347</td>\n",
       "    </tr>\n",
       "  </tbody>\n",
       "</table>\n",
       "</div>"
      ],
      "text/plain": [
       "  password  count\n",
       "0    !!!!!    401\n",
       "1   !!!!!!   2304\n",
       "2  !!!!!!!    386\n",
       "3   !12345    312\n",
       "4   !23456    347"
      ]
     },
     "execution_count": 61,
     "metadata": {},
     "output_type": "execute_result"
    }
   ],
   "source": [
    "data = data.groupby(data['password']).agg({'count':sum}).reset_index()\n",
    "print(data.shape)\n",
    "data.head()"
   ]
  },
  {
   "cell_type": "code",
   "execution_count": 62,
   "metadata": {
    "ExecuteTime": {
     "end_time": "2021-01-23T19:15:39.892870Z",
     "start_time": "2021-01-23T19:15:39.760627Z"
    }
   },
   "outputs": [
    {
     "data": {
      "text/html": [
       "<div>\n",
       "<style scoped>\n",
       "    .dataframe tbody tr th:only-of-type {\n",
       "        vertical-align: middle;\n",
       "    }\n",
       "\n",
       "    .dataframe tbody tr th {\n",
       "        vertical-align: top;\n",
       "    }\n",
       "\n",
       "    .dataframe thead th {\n",
       "        text-align: right;\n",
       "    }\n",
       "</style>\n",
       "<table border=\"1\" class=\"dataframe\">\n",
       "  <thead>\n",
       "    <tr style=\"text-align: right;\">\n",
       "      <th></th>\n",
       "      <th>password</th>\n",
       "      <th>count</th>\n",
       "    </tr>\n",
       "  </thead>\n",
       "  <tbody>\n",
       "    <tr>\n",
       "      <th>43879</th>\n",
       "      <td>123456789</td>\n",
       "      <td>7016669</td>\n",
       "    </tr>\n",
       "    <tr>\n",
       "      <th>506981</th>\n",
       "      <td>qwerty</td>\n",
       "      <td>3599486</td>\n",
       "    </tr>\n",
       "    <tr>\n",
       "      <th>35227</th>\n",
       "      <td>111111</td>\n",
       "      <td>2900049</td>\n",
       "    </tr>\n",
       "    <tr>\n",
       "      <th>43856</th>\n",
       "      <td>12345678</td>\n",
       "      <td>2680521</td>\n",
       "    </tr>\n",
       "    <tr>\n",
       "      <th>223879</th>\n",
       "      <td>abc123</td>\n",
       "      <td>2670319</td>\n",
       "    </tr>\n",
       "  </tbody>\n",
       "</table>\n",
       "</div>"
      ],
      "text/plain": [
       "         password    count\n",
       "43879   123456789  7016669\n",
       "506981     qwerty  3599486\n",
       "35227      111111  2900049\n",
       "43856    12345678  2680521\n",
       "223879     abc123  2670319"
      ]
     },
     "execution_count": 62,
     "metadata": {},
     "output_type": "execute_result"
    }
   ],
   "source": [
    "data = data.sort_values(by='count',ascending=False)\n",
    "data.head()"
   ]
  },
  {
   "cell_type": "markdown",
   "metadata": {},
   "source": [
    "Ahora vamos a establecer una métrica para pasar de la cuenta de las contraseñas a una métrica de su seguridad, para esto se decide hacer un escalamiento estándar al inverso de la cuenta de contraseñas. Esto para darle una mayor scoring a aquellos que tienen menos apariciones."
   ]
  },
  {
   "cell_type": "code",
   "execution_count": 63,
   "metadata": {
    "ExecuteTime": {
     "end_time": "2021-01-23T19:15:39.899413Z",
     "start_time": "2021-01-23T19:15:39.894522Z"
    }
   },
   "outputs": [
    {
     "data": {
      "text/plain": [
       "array([7016669, 3599486, 2900049, ...,      12,      12,      12])"
      ]
     },
     "execution_count": 63,
     "metadata": {},
     "output_type": "execute_result"
    }
   ],
   "source": [
    "pass_count = data.iloc[:,1].values\n",
    "pass_count"
   ]
  },
  {
   "cell_type": "code",
   "execution_count": 64,
   "metadata": {
    "ExecuteTime": {
     "end_time": "2021-01-23T19:15:39.944769Z",
     "start_time": "2021-01-23T19:15:39.900970Z"
    }
   },
   "outputs": [
    {
     "data": {
      "text/plain": [
       "['123456789', 'qwerty', '111111', '12345678', 'abc123']"
      ]
     },
     "execution_count": 64,
     "metadata": {},
     "output_type": "execute_result"
    }
   ],
   "source": [
    "from copy import copy\n",
    "passes = copy(data.iloc[:,0].values.tolist())\n",
    "passes[:5]"
   ]
  },
  {
   "cell_type": "code",
   "execution_count": 65,
   "metadata": {
    "ExecuteTime": {
     "end_time": "2021-01-23T19:15:39.950749Z",
     "start_time": "2021-01-23T19:15:39.948033Z"
    }
   },
   "outputs": [],
   "source": [
    "data = None  #Liberamos memoria"
   ]
  },
  {
   "cell_type": "markdown",
   "metadata": {},
   "source": [
    "Dividimos el conjunto de la seguridad de las contraseñas uniformemente en `n` intervalos"
   ]
  },
  {
   "cell_type": "code",
   "execution_count": 78,
   "metadata": {
    "ExecuteTime": {
     "end_time": "2021-01-23T19:28:46.102349Z",
     "start_time": "2021-01-23T19:28:45.985229Z"
    }
   },
   "outputs": [
    {
     "data": {
      "text/plain": [
       "array([ 0,  0,  0, ..., 10, 10, 10])"
      ]
     },
     "execution_count": 78,
     "metadata": {},
     "output_type": "execute_result"
    }
   ],
   "source": [
    "n = 10\n",
    "\n",
    "\n",
    "intervalo = pass_count.shape[0]//n\n",
    "\n",
    "pass_security = np.zeros(len(passes))\n",
    "intervalo_idx = 0\n",
    "for i in range(n):\n",
    "    for j in range(intervalo_idx,intervalo_idx+intervalo):\n",
    "        pass_security[j] = i\n",
    "        intervalo_idx += 1\n",
    "\n",
    "for j in range(intervalo_idx,len(pass_count)):\n",
    "    pass_security[j] = n\n",
    "    \n",
    "pass_security = pass_security.astype(int)   \n",
    "pass_security"
   ]
  },
  {
   "cell_type": "markdown",
   "metadata": {},
   "source": [
    "A continuación, hacemos una identificación de cada carácter que aparece en las contraseñas, esto para después poder identificar cada contraseña como una codificación de los carácteres que la componen"
   ]
  },
  {
   "cell_type": "code",
   "execution_count": 66,
   "metadata": {
    "ExecuteTime": {
     "end_time": "2021-01-23T19:15:40.462545Z",
     "start_time": "2021-01-23T19:15:39.953452Z"
    }
   },
   "outputs": [],
   "source": [
    "dict_letras = {}\n",
    "\n",
    "idx = 0\n",
    "for i in range(len(passes)):\n",
    "    #passes[i] = list(passes[i])\n",
    "    for letter in passes[i]:\n",
    "        if letter not in dict_letras.keys():\n",
    "            dict_letras[letter] = idx\n",
    "            idx += 1"
   ]
  },
  {
   "cell_type": "code",
   "execution_count": 67,
   "metadata": {
    "ExecuteTime": {
     "end_time": "2021-01-23T19:15:40.466077Z",
     "start_time": "2021-01-23T19:15:40.463484Z"
    }
   },
   "outputs": [
    {
     "data": {
      "text/plain": [
       "dict_items([('1', 0), ('2', 1), ('3', 2), ('4', 3), ('5', 4), ('6', 5), ('7', 6), ('8', 7), ('9', 8), ('q', 9), ('w', 10), ('e', 11), ('r', 12), ('t', 13), ('y', 14), ('a', 15), ('b', 16), ('c', 17), ('0', 18), ('i', 19), ('l', 20), ('o', 21), ('v', 22), ('u', 23), ('p', 24), ('m', 25), ('n', 26), ('k', 27), ('d', 28), ('g', 29), ('z', 30), ('s', 31), ('x', 32), ('f', 33), ('h', 34), ('j', 35), ('S', 36), ('V', 37), ('Q', 38), ('B', 39), ('L', 40), ('P', 41), ('J', 42), ('E', 43), ('!', 44), ('A', 45), ('W', 46), ('O', 47), ('R', 48), ('D', 49), ('G', 50), ('.', 51), ('@', 52), ('Y', 53), ('I', 54), ('?', 55), ('T', 56), ('U', 57), ('*', 58), ('M', 59), ('C', 60), ('-', 61), ('F', 62), ('H', 63), ('Z', 64), ('$', 65), ('#', 66), ('X', 67), ('N', 68), ('K', 69), (';', 70), ('%', 71), ('^', 72), ('_', 73), ('&', 74), (\"'\", 75), ('+', 76), ('~', 77), ('|', 78), ('{', 79), ('}', 80), ('`', 81)])"
      ]
     },
     "execution_count": 67,
     "metadata": {},
     "output_type": "execute_result"
    }
   ],
   "source": [
    "dict_letras.items()"
   ]
  },
  {
   "cell_type": "code",
   "execution_count": 68,
   "metadata": {
    "ExecuteTime": {
     "end_time": "2021-01-23T19:15:40.469016Z",
     "start_time": "2021-01-23T19:15:40.467136Z"
    }
   },
   "outputs": [],
   "source": [
    "import torch"
   ]
  },
  {
   "cell_type": "markdown",
   "metadata": {
    "ExecuteTime": {
     "end_time": "2021-01-23T19:11:02.247838Z",
     "start_time": "2021-01-23T19:11:02.236747Z"
    }
   },
   "source": [
    "A continuación definimos algunas funciones auxiliares para las neuronas de **entrada**:"
   ]
  },
  {
   "cell_type": "code",
   "execution_count": 70,
   "metadata": {
    "ExecuteTime": {
     "end_time": "2021-01-23T19:16:06.193786Z",
     "start_time": "2021-01-23T19:16:06.171099Z"
    }
   },
   "outputs": [
    {
     "data": {
      "text/plain": [
       "tensor([[[0., 0., 0., 0., 0., 0., 0., 0., 0., 0., 0., 0., 0., 0., 0., 1., 0.,\n",
       "          0., 0., 0., 0., 0., 0., 0., 0., 0., 0., 0., 0., 0., 0., 0., 0., 0.,\n",
       "          0., 0., 0., 0., 0., 0., 0., 0., 0., 0., 0., 0., 0., 0., 0., 0., 0.,\n",
       "          0., 0., 0., 0., 0., 0., 0., 0., 0., 0., 0., 0., 0., 0., 0., 0., 0.,\n",
       "          0., 0., 0., 0., 0., 0., 0., 0., 0., 0., 0., 0., 0., 0.]],\n",
       "\n",
       "        [[0., 0., 0., 0., 0., 0., 0., 0., 0., 0., 0., 0., 0., 0., 0., 0., 1.,\n",
       "          0., 0., 0., 0., 0., 0., 0., 0., 0., 0., 0., 0., 0., 0., 0., 0., 0.,\n",
       "          0., 0., 0., 0., 0., 0., 0., 0., 0., 0., 0., 0., 0., 0., 0., 0., 0.,\n",
       "          0., 0., 0., 0., 0., 0., 0., 0., 0., 0., 0., 0., 0., 0., 0., 0., 0.,\n",
       "          0., 0., 0., 0., 0., 0., 0., 0., 0., 0., 0., 0., 0., 0.]],\n",
       "\n",
       "        [[0., 0., 0., 0., 0., 0., 0., 0., 0., 0., 0., 0., 0., 0., 0., 0., 0.,\n",
       "          1., 0., 0., 0., 0., 0., 0., 0., 0., 0., 0., 0., 0., 0., 0., 0., 0.,\n",
       "          0., 0., 0., 0., 0., 0., 0., 0., 0., 0., 0., 0., 0., 0., 0., 0., 0.,\n",
       "          0., 0., 0., 0., 0., 0., 0., 0., 0., 0., 0., 0., 0., 0., 0., 0., 0.,\n",
       "          0., 0., 0., 0., 0., 0., 0., 0., 0., 0., 0., 0., 0., 0.]]])"
      ]
     },
     "execution_count": 70,
     "metadata": {},
     "output_type": "execute_result"
    }
   ],
   "source": [
    "dict_size = len(dict_letras.values())\n",
    "\n",
    "def char_to_int(char):\n",
    "    '''\n",
    "    Función que convierte una letra a entero\n",
    "    ------------------------------------\n",
    "    :param char str:Carácter a codificar\n",
    "    \n",
    "    :returns int: Codificación del carácter a su codificación\n",
    "                correspondiente según el diccionario.\n",
    "    '''\n",
    "    for letra, numero in dict_letras.items():\n",
    "        if letra==char:\n",
    "            \n",
    "            return numero\n",
    "\n",
    "\n",
    "def int_to_char(num):\n",
    "    '''\n",
    "    Función que convierte de entero a letra\n",
    "    ------------------------------------\n",
    "    :param num int:Entero a decodificar\n",
    "    \n",
    "    :returns str: Decodificación del número a su\n",
    "                correspondiente carácter según el diccionario.\n",
    "    '''    \n",
    "    for letra, numero in dict_letras.items():\n",
    "        if num==numero:\n",
    "            return letra\n",
    "\n",
    "def int_to_ohe(num):\n",
    "    '''\n",
    "    Función que convierte entero a su representación\n",
    "    OHE\n",
    "    --------------------------------------\n",
    "    :param num int: Entero de codificación a convertir a OHE\n",
    "    \n",
    "    :returns tensor: Tensor que contiene el número\n",
    "                en su representación OHE según el diccionario.\n",
    "    '''\n",
    "    ohe = torch.zeros(1,dict_size)\n",
    "    ohe[0][num] = 1\n",
    "    \n",
    "    return ohe\n",
    "\n",
    "\n",
    "\n",
    "def char_to_ohe(char):\n",
    "    '''\n",
    "    Función que convierte una letra a su representación\n",
    "    OHE\n",
    "    -----------------------------------------\n",
    "    :param char str: Carácter a convertir en su \n",
    "                        representación OHE.\n",
    "    :returns tensor: Tensor que contiene el carácter\n",
    "            en su representación OHE según el diccionario.\n",
    "    '''\n",
    "    return int_to_ohe(char_to_int(char))\n",
    "\n",
    "def passw_tensor(passw):\n",
    "    '''\n",
    "    Función que convierte una contraseña a su representación\n",
    "    OHE\n",
    "    -----------------------------------------\n",
    "    :param passw str: Contraseña a convertir en su \n",
    "                        representación OHE.\n",
    "    :returns tensor: Tensor que contiene la contraseña\n",
    "            en su representación OHE según el diccionario.\n",
    "    '''\n",
    "    tensor = torch.zeros(len(passw),1, dict_size)\n",
    "    \n",
    "    for i, letra in enumerate(passw):\n",
    "        tensor[i][0][char_to_int(letra)] = 1\n",
    "    return tensor\n",
    "\n",
    "passw_tensor('abc')"
   ]
  },
  {
   "cell_type": "markdown",
   "metadata": {
    "ExecuteTime": {
     "end_time": "2021-01-23T19:16:49.678862Z",
     "start_time": "2021-01-23T19:16:49.671477Z"
    }
   },
   "source": [
    "Ahora definiremos algunas funciones auxiliares para las neuronas de **salida**:"
   ]
  },
  {
   "cell_type": "code",
   "execution_count": null,
   "metadata": {
    "ExecuteTime": {
     "end_time": "2021-01-23T04:47:35.158064Z",
     "start_time": "2021-01-23T04:47:35.151165Z"
    }
   },
   "outputs": [],
   "source": [
    "\n",
    "def int_ohe(numero):\n",
    "    '''\n",
    "    Función que dado un número de seguridad, devuelve el tensor ohe\n",
    "    '''\n",
    "    tensor = torch.zeros(1,n+1)\n",
    "    tensor[0][numero] = 1\n",
    "    return tensor"
   ]
  },
  {
   "cell_type": "markdown",
   "metadata": {},
   "source": [
    "Una vez definidas estas funciones, la siguiente función nos permitirá obtener una muestra aleatoria de las contraseñas con su respectiva seguridad:"
   ]
  },
  {
   "cell_type": "code",
   "execution_count": 77,
   "metadata": {
    "ExecuteTime": {
     "end_time": "2021-01-23T19:27:05.403044Z",
     "start_time": "2021-01-23T19:27:05.378539Z"
    }
   },
   "outputs": [
    {
     "data": {
      "text/plain": [
       "('randyd',\n",
       " 4,\n",
       " tensor([[[0., 0., 0., 0., 0., 0., 0., 0., 0., 0., 0., 0., 1., 0., 0., 0., 0.,\n",
       "           0., 0., 0., 0., 0., 0., 0., 0., 0., 0., 0., 0., 0., 0., 0., 0., 0.,\n",
       "           0., 0., 0., 0., 0., 0., 0., 0., 0., 0., 0., 0., 0., 0., 0., 0., 0.,\n",
       "           0., 0., 0., 0., 0., 0., 0., 0., 0., 0., 0., 0., 0., 0., 0., 0., 0.,\n",
       "           0., 0., 0., 0., 0., 0., 0., 0., 0., 0., 0., 0., 0., 0.]],\n",
       " \n",
       "         [[0., 0., 0., 0., 0., 0., 0., 0., 0., 0., 0., 0., 0., 0., 0., 1., 0.,\n",
       "           0., 0., 0., 0., 0., 0., 0., 0., 0., 0., 0., 0., 0., 0., 0., 0., 0.,\n",
       "           0., 0., 0., 0., 0., 0., 0., 0., 0., 0., 0., 0., 0., 0., 0., 0., 0.,\n",
       "           0., 0., 0., 0., 0., 0., 0., 0., 0., 0., 0., 0., 0., 0., 0., 0., 0.,\n",
       "           0., 0., 0., 0., 0., 0., 0., 0., 0., 0., 0., 0., 0., 0.]],\n",
       " \n",
       "         [[0., 0., 0., 0., 0., 0., 0., 0., 0., 0., 0., 0., 0., 0., 0., 0., 0.,\n",
       "           0., 0., 0., 0., 0., 0., 0., 0., 0., 1., 0., 0., 0., 0., 0., 0., 0.,\n",
       "           0., 0., 0., 0., 0., 0., 0., 0., 0., 0., 0., 0., 0., 0., 0., 0., 0.,\n",
       "           0., 0., 0., 0., 0., 0., 0., 0., 0., 0., 0., 0., 0., 0., 0., 0., 0.,\n",
       "           0., 0., 0., 0., 0., 0., 0., 0., 0., 0., 0., 0., 0., 0.]],\n",
       " \n",
       "         [[0., 0., 0., 0., 0., 0., 0., 0., 0., 0., 0., 0., 0., 0., 0., 0., 0.,\n",
       "           0., 0., 0., 0., 0., 0., 0., 0., 0., 0., 0., 1., 0., 0., 0., 0., 0.,\n",
       "           0., 0., 0., 0., 0., 0., 0., 0., 0., 0., 0., 0., 0., 0., 0., 0., 0.,\n",
       "           0., 0., 0., 0., 0., 0., 0., 0., 0., 0., 0., 0., 0., 0., 0., 0., 0.,\n",
       "           0., 0., 0., 0., 0., 0., 0., 0., 0., 0., 0., 0., 0., 0.]],\n",
       " \n",
       "         [[0., 0., 0., 0., 0., 0., 0., 0., 0., 0., 0., 0., 0., 0., 1., 0., 0.,\n",
       "           0., 0., 0., 0., 0., 0., 0., 0., 0., 0., 0., 0., 0., 0., 0., 0., 0.,\n",
       "           0., 0., 0., 0., 0., 0., 0., 0., 0., 0., 0., 0., 0., 0., 0., 0., 0.,\n",
       "           0., 0., 0., 0., 0., 0., 0., 0., 0., 0., 0., 0., 0., 0., 0., 0., 0.,\n",
       "           0., 0., 0., 0., 0., 0., 0., 0., 0., 0., 0., 0., 0., 0.]],\n",
       " \n",
       "         [[0., 0., 0., 0., 0., 0., 0., 0., 0., 0., 0., 0., 0., 0., 0., 0., 0.,\n",
       "           0., 0., 0., 0., 0., 0., 0., 0., 0., 0., 0., 1., 0., 0., 0., 0., 0.,\n",
       "           0., 0., 0., 0., 0., 0., 0., 0., 0., 0., 0., 0., 0., 0., 0., 0., 0.,\n",
       "           0., 0., 0., 0., 0., 0., 0., 0., 0., 0., 0., 0., 0., 0., 0., 0., 0.,\n",
       "           0., 0., 0., 0., 0., 0., 0., 0., 0., 0., 0., 0., 0., 0.]]]),\n",
       " tensor([[0., 0., 0., 0., 1., 0., 0., 0., 0., 0., 0.]]))"
      ]
     },
     "execution_count": 77,
     "metadata": {},
     "output_type": "execute_result"
    }
   ],
   "source": [
    "def random_training_example(contrasenas, etiquetas):\n",
    "    '''\n",
    "    Función que dada una lista de contraseñas y sus etiquetas, regresa\n",
    "    una muestra aleatoria con su etiqueta correspondiente (seguridad)\n",
    "    ----------------------------------------------------------\n",
    "    :param contrasenas [str]: Lista de contraseñas\n",
    "    :param etiquetas [int]: Lista de la seguridad de las contraseñas\n",
    "    \n",
    "    :returns password str: Contraseña\n",
    "    :returns etiqueta int: Seguridad de la contraseña\n",
    "    :returns password_tensor tensor: Codificación OHE de la contraseña\n",
    "    :returns etiqueta_tensor tensor: Codificación OHE de la seguridad\n",
    "    '''\n",
    "    def random_choice(a):\n",
    "        random_idx = random.randint(0, len(a) - 1)\n",
    "        return random_idx\n",
    "    \n",
    "    idx = random_choice(contrasenas)\n",
    "    password = contrasenas[idx]\n",
    "    etiqueta = etiquetas[idx]\n",
    "    \n",
    "    password_tensor = passw_tensor(password)\n",
    "    etiqueta_tensor = int_ohe(etiqueta)\n",
    "\n",
    "    return password, etiqueta, password_tensor, etiqueta_tensor\n",
    "\n",
    "random_training_example(passes,pass_security)"
   ]
  },
  {
   "cell_type": "code",
   "execution_count": 20,
   "metadata": {
    "ExecuteTime": {
     "end_time": "2021-01-23T04:49:43.651543Z",
     "start_time": "2021-01-23T04:47:35.565532Z"
    }
   },
   "outputs": [
    {
     "name": "stdout",
     "output_type": "stream",
     "text": [
      "677566\n"
     ]
    }
   ],
   "source": [
    "def train_test_split(dataset,labels,test_size=0.2,seed=10):\n",
    "    '''\n",
    "    Función que divide los conjuntos en entrenamiento y validación.\n",
    "    -------------------------------------------\n",
    "    :param dataset [str]: Conjunto el cual de entrada\n",
    "    :param labels [int]: Conjunto de etiquetas correcta\n",
    "    :param test_size float: Tamaño del conjunto de validación (default=0.2)\n",
    "    :param seed int: Semilla para la generación aleatoria de los \n",
    "                    conjuntos (default=10)\n",
    "    \n",
    "    :returns X_train [str]: Conjunto de entrenamiento de entrada.\n",
    "    :returns X_test [str]: Conjunto de validación de entrada.\n",
    "    :returns y_train [int]: Conjunto de entrenamiento de salida.\n",
    "    :returns y_test [int]: Conjunto de validación de salida.\n",
    "    '''\n",
    "    rn = np.random.RandomState(seed)\n",
    "    m = int(len(dataset)*(1-test_size))\n",
    "    \n",
    "    choice = rn.choice(len(dataset),m,replace=False)\n",
    "    X_train = []\n",
    "    X_test = []\n",
    "    y_train = []\n",
    "    y_test = []\n",
    "    for i in choice:\n",
    "        X_train.append(dataset[i])\n",
    "        y_train.append(labels[i])\n",
    "    for i in range(len(dataset)):\n",
    "            if i not in choice:\n",
    "                X_test.append(dataset[i])\n",
    "                y_test.append(labels[i])\n",
    "    return X_train, X_test, y_train, y_test\n",
    "print(len(passes))\n",
    "\n",
    "X_train, X_test, y_train, y_test = train_test_split(passes,pass_security)"
   ]
  },
  {
   "cell_type": "markdown",
   "metadata": {},
   "source": [
    "La primera arquitectura a usar en la red recurrente es la siguiente:"
   ]
  },
  {
   "attachments": {
    "RNNmodelo.png": {
     "image/png": "[encoded data removed]"
    }
   },
   "cell_type": "markdown",
   "metadata": {},
   "source": [
    "![RNNmodelo.png](attachment:RNNmodelo.png)"
   ]
  },
  {
   "cell_type": "code",
   "execution_count": 103,
   "metadata": {
    "ExecuteTime": {
     "end_time": "2021-01-23T19:46:18.795628Z",
     "start_time": "2021-01-23T19:46:18.784969Z"
    }
   },
   "outputs": [],
   "source": [
    "import torch\n",
    "import torch.nn as nn\n",
    "import matplotlib.pyplot as plt\n",
    "\n",
    "class RNN1(nn.Module):\n",
    "    \n",
    "    def __init__(self, input_size, hidden_size, output_size):\n",
    "        '''\n",
    "        Parámetros de inicialización\n",
    "        ---------------------------------\n",
    "        :param input_size int: Tamaño de entrada\n",
    "        :param hidden_size int: Número de neuronas en las capas ocultas\n",
    "        :param output_size int: Neuronas en las capas de salida\n",
    "        '''\n",
    "        \n",
    "        super(RNN1, self).__init__()\n",
    "        \n",
    "        self.hidden_size = hidden_size\n",
    "        self.i2h = nn.Linear(input_size + hidden_size, hidden_size)\n",
    "        self.i2o = nn.Linear(input_size + hidden_size, output_size)\n",
    "        self.softmax = nn.LogSoftmax(dim=1) #Input por ejemplo 1,57\n",
    "    \n",
    "    def forward(self, input_tensor, hidden_tensor):\n",
    "        '''\n",
    "        Realiza feed-forward con las neuronas de entrada y el tensor\n",
    "        resultante de la iteración anterior\n",
    "        ------------------------------------------\n",
    "        :param input_tensor tensor: Tensor de neuronas de entrada\n",
    "        :param hidden_tensor tensor: Tensor de 'memoria asociativa'\n",
    "                                de la entrada anterior\n",
    "        \n",
    "        :returns output tensor: Tensor de salida\n",
    "        :returns hidden tensor: Tensor para la entrada siguiente\n",
    "        '''\n",
    "        combined = torch.cat((input_tensor, hidden_tensor),1 )\n",
    "        \n",
    "        hidden = self.i2h(combined)\n",
    "        output = self.i2o(combined)\n",
    "        output = self.softmax(output)\n",
    "        \n",
    "        return output, hidden\n",
    "    \n",
    "    def init_hidden(self):\n",
    "        '''\n",
    "        Primer vector oculto\n",
    "        -------------------\n",
    "        :returns tensor: Tensor para la primera neurona de entrada\n",
    "                        lleno de puros ceros\n",
    "        '''\n",
    "        return torch.zeros(1,self.hidden_size)"
   ]
  },
  {
   "cell_type": "markdown",
   "metadata": {},
   "source": [
    "Ahora definimos algunas funciones para la compatibilidad de contraseñas en cadena de texto y la red:"
   ]
  },
  {
   "cell_type": "code",
   "execution_count": 107,
   "metadata": {
    "ExecuteTime": {
     "end_time": "2021-01-23T19:47:23.089196Z",
     "start_time": "2021-01-23T19:47:23.073943Z"
    }
   },
   "outputs": [],
   "source": [
    "n_hidden = 128\n",
    "prueba = RNN1(dict_size, n_hidden, n+1)"
   ]
  },
  {
   "cell_type": "code",
   "execution_count": 108,
   "metadata": {
    "ExecuteTime": {
     "end_time": "2021-01-23T19:47:28.479798Z",
     "start_time": "2021-01-23T19:47:28.457799Z"
    }
   },
   "outputs": [
    {
     "name": "stdout",
     "output_type": "stream",
     "text": [
      "La contraseña 123563 tiene seguridad:\n"
     ]
    },
    {
     "data": {
      "text/plain": [
       "10"
      ]
     },
     "execution_count": 108,
     "metadata": {},
     "output_type": "execute_result"
    }
   ],
   "source": [
    "def security_from_output(output):\n",
    "    '''\n",
    "    Función de softmax al final de una red neuronal. \n",
    "    Predice la seguridad de una contraseña dado un tensor output\n",
    "    -------------------------------------------\n",
    "    :param output tensor: Tensor del que se calcula el argumento máximo\n",
    "    \n",
    "    :returns int: Neurona de salida activada\n",
    "    '''\n",
    "    category_idx = torch.argmax(output).item()\n",
    "    return category_idx\n",
    "\n",
    "def evaluate_password(password,model):\n",
    "    '''\n",
    "    Función que dado una contraseña y una red neuronal,\n",
    "    evalúa la seguridad de la contraseña según la red.\n",
    "    -----------------------------------------\n",
    "    :param password str: Contraseña a evaluar\n",
    "    :param model RNN: Red que evaluará la contraseña.\n",
    "    \n",
    "    :returns int: Seguridad de la contraseña según el modelo.\n",
    "    '''\n",
    "    pass_ohe = passw_tensor(password)\n",
    "    hidden = model.init_hidden()\n",
    "    for i in range(pass_ohe.size()[0]):\n",
    "        output, hidden = model(pass_ohe[i], hidden)\n",
    "    return security_from_output(output)\n",
    "    \n",
    "#print(passw_tensor(X_train[0]))\n",
    "print('La contraseña %s tiene seguridad:' %X_train[0])\n",
    "evaluate_password(X_train[0],prueba)"
   ]
  },
  {
   "cell_type": "markdown",
   "metadata": {},
   "source": [
    "Las funciones de entrenamiento:"
   ]
  },
  {
   "cell_type": "code",
   "execution_count": 120,
   "metadata": {
    "ExecuteTime": {
     "end_time": "2021-01-23T19:55:56.303412Z",
     "start_time": "2021-01-23T19:55:56.298715Z"
    }
   },
   "outputs": [],
   "source": [
    "def train1(model, line_tensor, category_tensor, criterion, learning_rate,optimizer):\n",
    "    '''\n",
    "    Realiza un paso de entrenamiento con un ejemplar y su etiqueta correcta.\n",
    "    -------------------------------------------------------------\n",
    "    :model rnn_net: Modelo a entrenar\n",
    "    :param passw tensor: Contraseña que entrará a la red en OHE\n",
    "    :param category_tensor tensor: Etiqueta correcta\n",
    "    \n",
    "    :returns output tensor: Tensor de predicción\n",
    "    :returns loss float: Pérdida del modelo después del entrenamiento\n",
    "    '''\n",
    "    hidden = model.init_hidden()\n",
    "    for i in range(line_tensor.size()[0]):\n",
    "        output, hidden = model(line_tensor[i], hidden)\n",
    "    #print(output)\n",
    "    loss = criterion(output,category_tensor)\n",
    "    \n",
    "    optimizer.zero_grad()\n",
    "    loss.backward()\n",
    "    optimizer.step()\n",
    "    \n",
    "    return output, loss.item()"
   ]
  },
  {
   "cell_type": "code",
   "execution_count": 121,
   "metadata": {
    "ExecuteTime": {
     "end_time": "2021-01-23T19:55:57.993785Z",
     "start_time": "2021-01-23T19:55:57.976707Z"
    }
   },
   "outputs": [],
   "source": [
    "def train_iterations1(model,passes, pass_security, optimizer,learning_rate=0.01, \n",
    "                     criterion=nn.MSELoss(), n_iters=100000,\n",
    "                     plot_steps=1000, print_steps=5000):\n",
    "    current_loss = 0\n",
    "    all_losses = []\n",
    "\n",
    "    for i in range(n_iters):\n",
    "        password, etiqueta, password_tensor, etiqueta_tensor = random_training_example(\n",
    "                                                                passes,pass_security)\n",
    "        password_tensor = password_tensor.to(device)\n",
    "        etiqueta_tensor = etiqueta_tensor.to(device)\n",
    "        output, loss = train(model,password_tensor, etiqueta_tensor,criterion,\n",
    "                            learning_rate,optimizer)\n",
    "        current_loss += loss\n",
    "\n",
    "        if (i+1)%plot_steps == 0:\n",
    "            all_losses.append(current_loss / plot_steps)\n",
    "            current_loss = 0\n",
    "            \n",
    "        if (i+1)%print_steps == 0:\n",
    "            guess = security_from_output(output)\n",
    "            correct = \"CORRECTO\" if guess == etiqueta else f\"EQUIVOCADO ({etiqueta})\"\n",
    "            print(f'''Iter:{i} {i/n_iters *100:.2f}% Perdida:{loss:.4f} \n",
    "            Contrasena:{password} / {guess} {correct}''')\n",
    "            \n",
    "    plt.figure()\n",
    "    plt.plot(all_losses)\n",
    "    plt.show()"
   ]
  },
  {
   "cell_type": "code",
   "execution_count": 122,
   "metadata": {
    "ExecuteTime": {
     "end_time": "2021-01-23T19:56:00.390140Z",
     "start_time": "2021-01-23T19:56:00.373733Z"
    }
   },
   "outputs": [
    {
     "name": "stdout",
     "output_type": "stream",
     "text": [
      "CUDA: False\n"
     ]
    }
   ],
   "source": [
    "n_hidden = 64*1\n",
    "\n",
    "pass_net1 = RNN1(dict_size, n_hidden, n+1)\n",
    "\n",
    "print('CUDA:',torch.cuda.is_available())\n",
    "device = torch.device(\"cuda:0\" if torch.cuda.is_available() else \"cpu\")\n",
    "pass_net1 = pass_net1.to(device)"
   ]
  },
  {
   "cell_type": "code",
   "execution_count": 126,
   "metadata": {
    "ExecuteTime": {
     "end_time": "2021-01-23T19:56:52.788418Z",
     "start_time": "2021-01-23T19:56:52.783691Z"
    }
   },
   "outputs": [
    {
     "name": "stdout",
     "output_type": "stream",
     "text": [
      "[Errno 2] No such file or directory: './red_neruonal_recurrente1.pth'\n",
      "Modelo nuevo.\n"
     ]
    }
   ],
   "source": [
    "try:\n",
    "    std_dict = torch.load('./red_neruonal_recurrente1.pth', map_location=device)\n",
    "    pass_net1.load_state_dict(std_dict)\n",
    "    print(\"Modelo cargado.\")\n",
    "except Exception as e:\n",
    "    print(e)\n",
    "    print(\"Modelo nuevo.\")"
   ]
  },
  {
   "cell_type": "code",
   "execution_count": 131,
   "metadata": {
    "ExecuteTime": {
     "end_time": "2021-01-23T20:15:49.887945Z",
     "start_time": "2021-01-23T19:58:47.318799Z"
    },
    "scrolled": true
   },
   "outputs": [
    {
     "name": "stdout",
     "output_type": "stream",
     "text": [
      "Iter:19999 2.00% Perdida:6.2815 \n",
      "            Contrasena:791017 / 1 CORRECTO\n",
      "Iter:39999 4.00% Perdida:6.2920 \n",
      "            Contrasena:Jimbob / 0 EQUIVOCADO (1)\n",
      "Iter:59999 6.00% Perdida:6.2880 \n",
      "            Contrasena:nokiadermo / 8 EQUIVOCADO (4)\n",
      "Iter:79999 8.00% Perdida:6.3403 \n",
      "            Contrasena:ketek1 / 0 EQUIVOCADO (7)\n",
      "Iter:99999 10.00% Perdida:6.2902 \n",
      "            Contrasena:maryska / 9 EQUIVOCADO (2)\n",
      "Iter:119999 12.00% Perdida:6.2782 \n",
      "            Contrasena:hasee / 5 CORRECTO\n",
      "Iter:139999 14.00% Perdida:6.3095 \n",
      "            Contrasena:jeckyll / 0 EQUIVOCADO (6)\n",
      "Iter:159999 16.00% Perdida:6.3090 \n",
      "            Contrasena:afepbz / 0 EQUIVOCADO (7)\n",
      "Iter:179999 18.00% Perdida:6.2998 \n",
      "            Contrasena:maplewood / 8 EQUIVOCADO (1)\n",
      "Iter:199999 20.00% Perdida:6.3229 \n",
      "            Contrasena:Rikki / 0 EQUIVOCADO (6)\n",
      "Iter:219999 22.00% Perdida:6.3085 \n",
      "            Contrasena:villano / 4 EQUIVOCADO (2)\n",
      "Iter:239999 24.00% Perdida:6.2944 \n",
      "            Contrasena:kamerin1 / 0 EQUIVOCADO (4)\n",
      "Iter:259999 26.00% Perdida:6.2919 \n",
      "            Contrasena:astr / 1 EQUIVOCADO (6)\n",
      "Iter:279999 28.00% Perdida:6.2845 \n",
      "            Contrasena:odetta / 9 EQUIVOCADO (3)\n",
      "Iter:299999 30.00% Perdida:6.2800 \n",
      "            Contrasena:regionchel / 8 CORRECTO\n",
      "Iter:319999 32.00% Perdida:6.2809 \n",
      "            Contrasena:mottram / 8 EQUIVOCADO (5)\n",
      "Iter:339999 34.00% Perdida:6.3154 \n",
      "            Contrasena:kikik / 0 EQUIVOCADO (3)\n",
      "Iter:359999 36.00% Perdida:6.2978 \n",
      "            Contrasena:01031973 / 2 EQUIVOCADO (1)\n",
      "Iter:379999 38.00% Perdida:6.2894 \n",
      "            Contrasena:Terence / 4 EQUIVOCADO (3)\n",
      "Iter:399999 40.00% Perdida:6.3202 \n",
      "            Contrasena:greenfac / 5 EQUIVOCADO (9)\n",
      "Iter:419999 42.00% Perdida:6.2857 \n",
      "            Contrasena:mario / 0 CORRECTO\n",
      "Iter:439999 44.00% Perdida:6.2991 \n",
      "            Contrasena:ambience / 4 EQUIVOCADO (2)\n",
      "Iter:459999 46.00% Perdida:6.3151 \n",
      "            Contrasena:zhjckfd1 / 0 EQUIVOCADO (2)\n",
      "Iter:479999 48.00% Perdida:6.3056 \n",
      "            Contrasena:poetic / 5 EQUIVOCADO (1)\n",
      "Iter:499999 50.00% Perdida:6.2981 \n",
      "            Contrasena:fishin10 / 1 EQUIVOCADO (5)\n",
      "Iter:519999 52.00% Perdida:6.3026 \n",
      "            Contrasena:pilles / 0 EQUIVOCADO (7)\n",
      "Iter:539999 54.00% Perdida:6.2877 \n",
      "            Contrasena:countess / 5 EQUIVOCADO (1)\n",
      "Iter:559999 56.00% Perdida:6.2894 \n",
      "            Contrasena:luckwood / 8 EQUIVOCADO (9)\n",
      "Iter:579999 58.00% Perdida:6.2999 \n",
      "            Contrasena:fashionist / 5 EQUIVOCADO (1)\n",
      "Iter:599999 60.00% Perdida:6.3419 \n",
      "            Contrasena:rekan / 9 EQUIVOCADO (7)\n",
      "Iter:619999 62.00% Perdida:6.2916 \n",
      "            Contrasena:dominion1 / 0 EQUIVOCADO (1)\n",
      "Iter:639999 64.00% Perdida:6.2938 \n",
      "            Contrasena:8fduecnf / 4 EQUIVOCADO (3)\n",
      "Iter:659999 66.00% Perdida:6.2879 \n",
      "            Contrasena:883883 / 5 EQUIVOCADO (1)\n",
      "Iter:679999 68.00% Perdida:6.3050 \n",
      "            Contrasena:coolle / 5 EQUIVOCADO (6)\n",
      "Iter:699999 70.00% Perdida:6.2939 \n",
      "            Contrasena:magpies9 / 0 EQUIVOCADO (4)\n",
      "Iter:719999 72.00% Perdida:6.3069 \n",
      "            Contrasena:yj46yej4 / 0 EQUIVOCADO (8)\n",
      "Iter:739999 74.00% Perdida:6.2784 \n",
      "            Contrasena:marco22 / 5 EQUIVOCADO (1)\n",
      "Iter:759999 76.00% Perdida:6.2957 \n",
      "            Contrasena:789w456 / 0 EQUIVOCADO (6)\n",
      "Iter:779999 78.00% Perdida:6.2818 \n",
      "            Contrasena:trunky / 0 EQUIVOCADO (5)\n",
      "Iter:799999 80.00% Perdida:6.2918 \n",
      "            Contrasena:379375 / 0 EQUIVOCADO (9)\n",
      "Iter:819999 82.00% Perdida:6.2868 \n",
      "            Contrasena:120181 / 1 EQUIVOCADO (0)\n",
      "Iter:839999 84.00% Perdida:6.2776 \n",
      "            Contrasena:altavista / 9 EQUIVOCADO (0)\n",
      "Iter:859999 86.00% Perdida:6.2841 \n",
      "            Contrasena:352789 / 0 EQUIVOCADO (5)\n",
      "Iter:879999 88.00% Perdida:6.3141 \n",
      "            Contrasena:Heinz1 / 0 EQUIVOCADO (6)\n",
      "Iter:899999 90.00% Perdida:6.2761 \n",
      "            Contrasena:8033132 / 5 EQUIVOCADO (8)\n",
      "Iter:919999 92.00% Perdida:6.2941 \n",
      "            Contrasena:aladin / 9 EQUIVOCADO (0)\n",
      "Iter:939999 94.00% Perdida:6.2866 \n",
      "            Contrasena:sabers / 0 EQUIVOCADO (1)\n",
      "Iter:959999 96.00% Perdida:6.2961 \n",
      "            Contrasena:taebo / 8 EQUIVOCADO (5)\n",
      "Iter:979999 98.00% Perdida:6.2967 \n",
      "            Contrasena:391971 / 0 EQUIVOCADO (4)\n",
      "Iter:999999 100.00% Perdida:6.3012 \n",
      "            Contrasena:puffball / 0 EQUIVOCADO (1)\n"
     ]
    },
    {
     "data": {
      "image/png": "[encoded data removed]",
      "text/plain": [
       "<Figure size 432x288 with 1 Axes>"
      ]
     },
     "metadata": {
      "needs_background": "light"
     },
     "output_type": "display_data"
    },
    {
     "name": "stdout",
     "output_type": "stream",
     "text": [
      "Modelo Guardado\n"
     ]
    }
   ],
   "source": [
    "criterion = nn.NLLLoss()\n",
    "optimizer = torch.optim.Adam(pass_net1.parameters(), lr=0.1)\n",
    "#n_iters = len(X_train)\n",
    "n_iters = 1000000\n",
    "print_steps = int(n_iters/50)\n",
    "learning_rate = 0.1\n",
    "\n",
    "train_iterations1(pass_net1,X_train,np.array(y_train),optimizer,learning_rate, \n",
    "                 n_iters=n_iters, print_steps=print_steps)\n",
    "\n",
    "torch.save(pass_net1.state_dict(),\"./red_neruonal_recurrente1.pth\")\n",
    "print(\"Modelo Guardado\")"
   ]
  },
  {
   "cell_type": "code",
   "execution_count": 134,
   "metadata": {
    "ExecuteTime": {
     "end_time": "2021-01-23T20:23:01.722158Z",
     "start_time": "2021-01-23T20:21:29.430342Z"
    }
   },
   "outputs": [],
   "source": [
    "predicciones = []\n",
    "for passw in X_test:\n",
    "    prediccion = evaluate_password(passw,pass_net1)\n",
    "    predicciones.append(prediccion)"
   ]
  },
  {
   "cell_type": "code",
   "execution_count": 136,
   "metadata": {
    "ExecuteTime": {
     "end_time": "2021-01-23T20:23:40.303866Z",
     "start_time": "2021-01-23T20:23:40.170891Z"
    }
   },
   "outputs": [
    {
     "name": "stdout",
     "output_type": "stream",
     "text": [
      "La exactitud del modelo es: 0.09610077187596854\n"
     ]
    }
   ],
   "source": [
    "from sklearn.metrics import accuracy_score\n",
    "\n",
    "print('La exactitud del modelo es:',accuracy_score(y_test,predicciones))"
   ]
  },
  {
   "cell_type": "markdown",
   "metadata": {},
   "source": [
    "Ahora probemos con una segunda red neuronal recurrente con distinta arquitectura. Ahora, tendrá dos capas ocultas antes de pasar al siguiente estaso en lugar de una."
   ]
  },
  {
   "cell_type": "code",
   "execution_count": 138,
   "metadata": {
    "ExecuteTime": {
     "end_time": "2021-01-23T20:24:09.442946Z",
     "start_time": "2021-01-23T20:24:09.415660Z"
    }
   },
   "outputs": [],
   "source": [
    "import torch\n",
    "import torch.nn as nn\n",
    "import matplotlib.pyplot as plt\n",
    "\n",
    "class RNN2(nn.Module):\n",
    "    \n",
    "    def __init__(self, input_size,layer1_size ,hidden_size, output_size):\n",
    "        '''\n",
    "        Parámetros de inicialización\n",
    "        ---------------------------------\n",
    "        :param input_size int: Tamaño de entrada\n",
    "        :param hidden_size int: Número de neuronas en las capas ocultas\n",
    "        :param output_size int: Neuronas en las capas de salida\n",
    "        '''\n",
    "        \n",
    "        super(RNN, self).__init__()\n",
    "        \n",
    "        self.hidden_size = hidden_size\n",
    "        self.fc1 = nn.Linear(input_size + hidden_size, layer1_size)\n",
    "        self.i2h = nn.Linear(layer1_size, hidden_size)\n",
    "        self.i2o = nn.Linear(layer1_size, output_size)\n",
    "        self.softmax = nn.LogSoftmax(dim=1) #Input por ejemplo 1,57\n",
    "    \n",
    "    def forward(self, input_tensor, hidden_tensor):\n",
    "        '''\n",
    "        Realiza feed-forward con las neuronas de entrada y el tensor\n",
    "        resultante de la iteración anterior\n",
    "        ------------------------------------------\n",
    "        :param input_tensor tensor: Tensor de neuronas de entrada\n",
    "        :param hidden_tensor tensor: Tensor de 'memoria asociativa'\n",
    "                                de la entrada anterior\n",
    "        \n",
    "        :returns output tensor: Tensor de salida\n",
    "        :returns hidden tensor: Tensor para la entrada siguiente\n",
    "        '''\n",
    "        \n",
    "        combined = torch.cat((input_tensor, hidden_tensor),1 )\n",
    "        #print(combined)\n",
    "        layer1 = torch.sigmoid(self.fc1(combined))\n",
    "        hidden = self.i2h(layer1)\n",
    "        output = self.i2o(layer1)\n",
    "        output = self.softmax(output)\n",
    "        \n",
    "        return output, hidden\n",
    "    \n",
    "    def init_hidden(self):\n",
    "        '''\n",
    "        Primer vector oculto\n",
    "        -------------------\n",
    "        :returns tensor: Tensor para la primera neurona de entrada\n",
    "                        lleno de puros ceros\n",
    "        '''\n",
    "        return torch.zeros(1,self.hidden_size)"
   ]
  },
  {
   "cell_type": "markdown",
   "metadata": {},
   "source": [
    "Adicionalmente, cada iteración será un entrenamiento de todo el conjunto de entrenamiento con separación de mini-batches entre cada paso de descenso por el gradiente."
   ]
  },
  {
   "cell_type": "code",
   "execution_count": 35,
   "metadata": {
    "ExecuteTime": {
     "end_time": "2021-01-23T06:47:11.339607Z",
     "start_time": "2021-01-23T06:47:11.332222Z"
    }
   },
   "outputs": [],
   "source": [
    "def train_iterations(model,passes, pass_security, optimizer, learning_rate=0.01, \n",
    "                     criterion=nn.MSELoss(), n_iters=1000, batch_size=5000):\n",
    "    current_loss = 0\n",
    "    all_losses = []\n",
    "\n",
    "    for i in range(n_iters):\n",
    "        \n",
    "        optimizer.zero_grad()\n",
    "        \n",
    "        for batch_iter in range(batch_size):\n",
    "            password, etiqueta, password_tensor, etiqueta_tensor = random_training_example(\n",
    "                                                                    passes,pass_security)\n",
    "            output, loss = train(model,password_tensor, etiqueta_tensor,criterion,\n",
    "                                learning_rate, optimizer)\n",
    "            current_loss += loss\n",
    "\n",
    "        optimizer.step()\n",
    "        \n",
    "        if (i+1)%5 == 0:\n",
    "            print(i,':', current_loss)\n",
    "            all_losses.append(current_loss / batch_size)\n",
    "            current_loss = 0\n",
    "            \n",
    "        #if (i+1)%n_iters/50 == 0:\n",
    "        #    guess = security_from_output(output)\n",
    "        #    correct = \"CORRECTO\" if guess == etiqueta else f\"EQUIVOCADO ({etiqueta})\"\n",
    "        #    print(f'''Iter:{i} {i/n_iters *100:.2f}% Perdida:{loss:.4f} \n",
    "        #    Contrasena:{password} / {guess} {correct}''')\n",
    "            \n",
    "    plt.figure()\n",
    "    plt.plot(all_losses)\n",
    "    plt.show()"
   ]
  },
  {
   "cell_type": "code",
   "execution_count": 36,
   "metadata": {
    "ExecuteTime": {
     "end_time": "2021-01-23T06:47:12.290530Z",
     "start_time": "2021-01-23T06:47:12.287457Z"
    }
   },
   "outputs": [],
   "source": [
    "\n",
    "def train(model, line_tensor, category_tensor, criterion, learning_rate, optimizer):\n",
    "    '''\n",
    "    Realiza un paso de entrenamiento con un ejemplar y su etiqueta correcta.\n",
    "    -------------------------------------------------------------\n",
    "    :model rnn_net: Modelo a entrenar\n",
    "    :param passw tensor: Contraseña que entrará a la red en OHE\n",
    "    :param category_tensor tensor: Etiqueta correcta\n",
    "    \n",
    "    :returns output tensor: Tensor de predicción\n",
    "    :returns loss float: Pérdida del modelo después del entrenamiento\n",
    "    '''\n",
    "    #print(line_tensor)\n",
    "    hidden = model.init_hidden()\n",
    "    for i in range(line_tensor.size()[0]):\n",
    "        output, hidden = model(line_tensor[i], hidden)\n",
    "\n",
    "    loss = criterion(output,category_tensor)\n",
    "    loss.backward()\n",
    "    \n",
    "    \n",
    "    return output, loss.item()"
   ]
  },
  {
   "cell_type": "code",
   "execution_count": 37,
   "metadata": {
    "ExecuteTime": {
     "end_time": "2021-01-23T06:47:13.118267Z",
     "start_time": "2021-01-23T06:47:13.115844Z"
    }
   },
   "outputs": [],
   "source": [
    "pass_net2 = RNN(dict_size,32,128,n+1)"
   ]
  },
  {
   "cell_type": "code",
   "execution_count": null,
   "metadata": {},
   "outputs": [],
   "source": [
    "try:\n",
    "    std_dict = torch.load('./red_neruonal_recurrente2.pth', map_location=device)\n",
    "    pass_net2.load_state_dict(std_dict)\n",
    "    print(\"Modelo cargado.\")\n",
    "except Exception as e:\n",
    "    print(e)\n",
    "    print(\"Modelo nuevo.\")"
   ]
  },
  {
   "cell_type": "code",
   "execution_count": 38,
   "metadata": {
    "ExecuteTime": {
     "end_time": "2021-01-23T16:47:22.185619Z",
     "start_time": "2021-01-23T06:47:17.949317Z"
    }
   },
   "outputs": [
    {
     "name": "stderr",
     "output_type": "stream",
     "text": [
      "<ipython-input-22-07ec120d4158>:42: UserWarning: Implicit dimension choice for log_softmax has been deprecated. Change the call to include dim=X as an argument.\n",
      "  output = self.softmax(output)\n"
     ]
    },
    {
     "name": "stdout",
     "output_type": "stream",
     "text": [
      "4 : 180686.6856226921\n",
      "9 : 158207.23965454102\n",
      "14 : 157728.48303318024\n",
      "19 : 157172.43016767502\n",
      "24 : 157152.39694595337\n",
      "29 : 157081.59831762314\n",
      "34 : 156984.65678453445\n",
      "39 : 156964.71923971176\n",
      "44 : 156950.23340463638\n",
      "49 : 156930.78427124023\n",
      "54 : 156926.69552230835\n",
      "59 : 156920.82666444778\n",
      "64 : 156917.6409239769\n",
      "69 : 156916.7630391121\n",
      "74 : 156915.28966665268\n",
      "79 : 156914.92451143265\n",
      "84 : 156914.59390878677\n",
      "89 : 156914.397585392\n",
      "94 : 156914.25785541534\n",
      "99 : 156914.1461277008\n",
      "104 : 156914.04419708252\n",
      "109 : 156913.9960179329\n",
      "114 : 156913.95074367523\n",
      "119 : 156913.99814033508\n",
      "124 : 156913.89306735992\n",
      "129 : 156913.9281926155\n",
      "134 : 156913.91936731339\n",
      "139 : 156913.87963294983\n",
      "144 : 156913.9039463997\n",
      "149 : 156913.89954566956\n",
      "154 : 156913.94660186768\n",
      "159 : 156913.8699235916\n",
      "164 : 156913.9135904312\n",
      "169 : 156913.88705921173\n",
      "174 : 156913.88965034485\n",
      "179 : 156913.96074056625\n",
      "184 : 156913.952729702\n",
      "189 : 156913.95811367035\n",
      "194 : 156913.95165586472\n",
      "199 : 156913.9396634102\n",
      "204 : 156913.95790052414\n",
      "209 : 156913.90423679352\n",
      "214 : 156914.01833295822\n",
      "219 : 156913.95353078842\n",
      "224 : 156913.9930510521\n",
      "229 : 156913.88403511047\n",
      "234 : 156913.8679151535\n",
      "239 : 156913.92715215683\n",
      "244 : 156913.92221355438\n",
      "249 : 156913.9163866043\n",
      "254 : 156913.8936753273\n",
      "259 : 156913.91165447235\n",
      "264 : 156913.90390491486\n",
      "269 : 156913.8806157112\n",
      "274 : 156913.8895225525\n",
      "279 : 156913.92775011063\n",
      "284 : 156913.93011522293\n",
      "289 : 156913.93032932281\n",
      "294 : 156913.94140958786\n",
      "299 : 156913.95958280563\n",
      "304 : 156913.94732141495\n",
      "309 : 156913.9349808693\n",
      "314 : 156913.93601417542\n",
      "319 : 156913.99550914764\n",
      "324 : 156913.9405117035\n",
      "329 : 156913.90477609634\n",
      "334 : 156913.88239765167\n",
      "339 : 156913.92138051987\n",
      "344 : 156913.94381523132\n",
      "349 : 156913.92576026917\n",
      "354 : 156913.9156370163\n",
      "359 : 156913.98855304718\n",
      "364 : 156914.06023311615\n",
      "369 : 156914.1613354683\n",
      "374 : 156914.27888727188\n",
      "379 : 156914.01095581055\n",
      "384 : 156914.02644443512\n",
      "389 : 156913.97375249863\n",
      "394 : 156914.06824207306\n",
      "399 : 156914.00080490112\n",
      "404 : 156913.99316978455\n",
      "409 : 156914.0194630623\n",
      "414 : 156914.02067184448\n",
      "419 : 156914.07218313217\n",
      "424 : 156913.9216647148\n",
      "429 : 156913.865752697\n",
      "434 : 156913.90273666382\n",
      "439 : 156914.05732297897\n",
      "444 : 156913.95370912552\n",
      "449 : 156913.9470653534\n",
      "454 : 156913.98780822754\n",
      "459 : 156913.9835371971\n",
      "464 : 156913.9951953888\n",
      "469 : 156914.04654073715\n",
      "474 : 156913.93253612518\n",
      "479 : 156914.0551109314\n",
      "484 : 156914.03915309906\n",
      "489 : 156914.07133674622\n",
      "494 : 156913.98307704926\n",
      "499 : 156914.0934958458\n",
      "504 : 156914.03350305557\n",
      "509 : 156914.06114292145\n",
      "514 : 156913.97292804718\n",
      "519 : 156913.88986301422\n",
      "524 : 156913.9788684845\n",
      "529 : 156913.96810483932\n",
      "534 : 156913.94721984863\n",
      "539 : 156913.91314792633\n",
      "544 : 156914.11843204498\n",
      "549 : 156914.028963089\n",
      "554 : 156914.0320329666\n",
      "559 : 156914.0158586502\n",
      "564 : 156914.10414409637\n",
      "569 : 156914.22052764893\n",
      "574 : 156914.28805732727\n",
      "579 : 156914.1236925125\n",
      "584 : 156914.15553808212\n",
      "589 : 156914.10351228714\n",
      "594 : 156914.06061458588\n",
      "599 : 156914.0653977394\n",
      "604 : 156913.96328496933\n",
      "609 : 156913.91656589508\n",
      "614 : 156913.94476652145\n",
      "619 : 156914.00654268265\n",
      "624 : 156914.1257352829\n",
      "629 : 156913.9336090088\n",
      "634 : 156913.9582567215\n",
      "639 : 156914.05118846893\n",
      "644 : 156914.1113562584\n",
      "649 : 156913.9540667534\n",
      "654 : 156913.99098587036\n",
      "659 : 156913.91245746613\n",
      "664 : 156914.01345157623\n",
      "669 : 156914.00669908524\n",
      "674 : 156914.04646396637\n",
      "679 : 156914.16037130356\n",
      "684 : 156914.22524356842\n",
      "689 : 156914.0621085167\n",
      "694 : 156914.05386924744\n",
      "699 : 156914.0269370079\n",
      "704 : 156913.98582696915\n",
      "709 : 156914.06275844574\n",
      "714 : 156914.05142736435\n",
      "719 : 156914.10823726654\n",
      "724 : 156914.27905988693\n",
      "729 : 156914.17401838303\n",
      "734 : 156914.08295869827\n",
      "739 : 156913.94579792023\n",
      "744 : 156914.05389976501\n",
      "749 : 156914.09778404236\n",
      "754 : 156914.04703187943\n",
      "759 : 156914.1440577507\n",
      "764 : 156914.3377046585\n",
      "769 : 156914.26292848587\n",
      "774 : 156914.26045417786\n",
      "779 : 156914.0856204033\n",
      "784 : 156913.92847251892\n",
      "789 : 156914.16757440567\n",
      "794 : 156914.08797979355\n",
      "799 : 156914.2638516426\n",
      "804 : 156914.36360502243\n",
      "809 : 156914.16681814194\n",
      "814 : 156914.11600351334\n",
      "819 : 156914.17271661758\n",
      "824 : 156914.2783384323\n",
      "829 : 156914.43927669525\n",
      "834 : 156914.17206144333\n",
      "839 : 156914.2743563652\n",
      "844 : 156914.03988981247\n",
      "849 : 156914.20448350906\n",
      "854 : 156914.0133752823\n",
      "859 : 156914.0827627182\n",
      "864 : 156914.16832399368\n",
      "869 : 156914.1727514267\n",
      "874 : 156914.3117594719\n",
      "879 : 156914.04155540466\n",
      "884 : 156914.13970422745\n",
      "889 : 156914.19001340866\n",
      "894 : 156914.1246023178\n",
      "899 : 156914.16726875305\n",
      "904 : 156914.08414554596\n",
      "909 : 156914.09352827072\n",
      "914 : 156914.36115980148\n",
      "919 : 156914.3752298355\n",
      "924 : 156914.20709514618\n",
      "929 : 156914.275513649\n",
      "934 : 156914.12099075317\n",
      "939 : 156914.08817481995\n",
      "944 : 156914.23048877716\n",
      "949 : 156914.33671092987\n",
      "954 : 156914.1215004921\n",
      "959 : 156914.0734014511\n",
      "964 : 156914.16143655777\n",
      "969 : 156914.26614284515\n",
      "974 : 156914.36633872986\n",
      "979 : 156914.4133400917\n",
      "984 : 156914.36881542206\n",
      "989 : 156914.43584871292\n",
      "994 : 156914.4155831337\n",
      "999 : 156914.15502882004\n"
     ]
    },
    {
     "data": {
      "image/png": "[encoded data removed]",
      "text/plain": [
       "<Figure size 432x288 with 1 Axes>"
      ]
     },
     "metadata": {
      "needs_background": "light"
     },
     "output_type": "display_data"
    }
   ],
   "source": [
    "optimizer = torch.optim.Adam(pass_net2.parameters(),lr=0.1)\n",
    "criterion = nn.NLLLoss()\n",
    "train_iterations(pass_net2,X_train,y_train,optimizer,n_iters=1000)\n",
    "\n",
    "torch.save(pass_net2.state_dict(),\"./red_neruonal_recurrente2.pth\")\n",
    "print(\"Modelo Guardado\")"
   ]
  },
  {
   "cell_type": "code",
   "execution_count": 143,
   "metadata": {
    "ExecuteTime": {
     "end_time": "2021-01-23T20:28:55.961058Z",
     "start_time": "2021-01-23T20:26:35.287848Z"
    }
   },
   "outputs": [
    {
     "name": "stderr",
     "output_type": "stream",
     "text": [
      "<ipython-input-22-07ec120d4158>:42: UserWarning: Implicit dimension choice for log_softmax has been deprecated. Change the call to include dim=X as an argument.\n",
      "  output = self.softmax(output)\n"
     ]
    }
   ],
   "source": [
    "predicciones = []\n",
    "for passw in X_test:\n",
    "    prediccion = evaluate_password(passw,pass_net2)\n",
    "    predicciones.append(prediccion)"
   ]
  },
  {
   "cell_type": "code",
   "execution_count": 144,
   "metadata": {
    "ExecuteTime": {
     "end_time": "2021-01-23T20:28:56.918910Z",
     "start_time": "2021-01-23T20:28:56.868530Z"
    }
   },
   "outputs": [
    {
     "name": "stdout",
     "output_type": "stream",
     "text": [
      "La exactitud del modelo es: 0.10074235872308396\n"
     ]
    }
   ],
   "source": [
    "from sklearn.metrics import accuracy_score\n",
    "\n",
    "print('La exactitud del modelo es:',accuracy_score(y_test,predicciones))"
   ]
  },
  {
   "cell_type": "markdown",
   "metadata": {},
   "source": [
    "Por lo que se puede ver, aún con una pequeña mejora, el modelo solo predice bien el % de los casos"
   ]
  }
 ],
 "metadata": {
  "hide_input": false,
  "kernelspec": {
   "display_name": "Python 3",
   "language": "python",
   "name": "python3"
  },
  "language_info": {
   "codemirror_mode": {
    "name": "ipython",
    "version": 3
   },
   "file_extension": ".py",
   "mimetype": "text/x-python",
   "name": "python",
   "nbconvert_exporter": "python",
   "pygments_lexer": "ipython3",
   "version": "3.8.3"
  },
  "varInspector": {
   "cols": {
    "lenName": 16,
    "lenType": 16,
    "lenVar": 40
   },
   "kernels_config": {
    "python": {
     "delete_cmd_postfix": "",
     "delete_cmd_prefix": "del ",
     "library": "var_list.py",
     "varRefreshCmd": "print(var_dic_list())"
    },
    "r": {
     "delete_cmd_postfix": ") ",
     "delete_cmd_prefix": "rm(",
     "library": "var_list.r",
     "varRefreshCmd": "cat(var_dic_list()) "
    }
   },
   "types_to_exclude": [
    "module",
    "function",
    "builtin_function_or_method",
    "instance",
    "_Feature"
   ],
   "window_display": false
  }
 },
 "nbformat": 4,
 "nbformat_minor": 4
}
