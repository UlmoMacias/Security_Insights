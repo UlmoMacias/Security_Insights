{
 "cells": [
  {
   "cell_type": "markdown",
   "metadata": {},
   "source": [
    "# Proyecto"
   ]
  },
  {
   "cell_type": "markdown",
   "metadata": {},
   "source": [
    "Objetivo: Analizar la seguridad de contraseñas con base en la lista de contraseñas y su frecuencia de uso"
   ]
  },
  {
   "cell_type": "markdown",
   "metadata": {},
   "source": [
    "- Los problemas de clasificación predicen una lista ordenada o una clasificación de objetos, la manera en el que se realizó la consulta. Esto podría ser bastante práctico si lo que queremos es regresar la lista de contraseñas que alguien podría colocar al momento de ingresar su contraseña. \n",
    "- La clasificación predice una etiqueta y los problemas incluyen problemas binarios de \"sí o no\" como \"si esta imagen es un corgi o un muffin de arándanos\", así como problemas de clasificación múltiple como \"si esto es bueno, malo o promedio\". Con la clasificación, las respuestas correctas deben etiquetarse para que su algoritmo pueda aprender de ellas.\n",
    "- Exactamente, que es lo que deseamos encontrar?\n",
    "- Que tipo de visualizaciones se elige?\n",
    "\n",
    "Fuente de la información:\n",
    "1. Bruteforce Database Github\n",
    "2. https://github.com/duyet/bruteforce-database\n",
    "3. https://haveibeenpwned.com/Passwords **Pwned Passwords 20 GB.**\n",
    "4. https://www.kaggle.com/search?q=passwords\n",
    "5. https://github.com/robinske/password-data"
   ]
  },
  {
   "cell_type": "markdown",
   "metadata": {},
   "source": [
    "Primero haremos una exploración de los datos:"
   ]
  },
  {
   "cell_type": "code",
   "execution_count": 272,
   "metadata": {},
   "outputs": [],
   "source": [
    "import pandas as pd\n",
    "import matplotlib.pyplot as plt\n",
    "import numpy as np\n",
    "import seaborn as sns"
   ]
  },
  {
   "cell_type": "code",
   "execution_count": 273,
   "metadata": {},
   "outputs": [
    {
     "data": {
      "text/html": [
       "<div>\n",
       "<style scoped>\n",
       "    .dataframe tbody tr th:only-of-type {\n",
       "        vertical-align: middle;\n",
       "    }\n",
       "\n",
       "    .dataframe tbody tr th {\n",
       "        vertical-align: top;\n",
       "    }\n",
       "\n",
       "    .dataframe thead th {\n",
       "        text-align: right;\n",
       "    }\n",
       "</style>\n",
       "<table border=\"1\" class=\"dataframe\">\n",
       "  <thead>\n",
       "    <tr style=\"text-align: right;\">\n",
       "      <th></th>\n",
       "      <th>password</th>\n",
       "      <th>hash</th>\n",
       "      <th>count</th>\n",
       "    </tr>\n",
       "  </thead>\n",
       "  <tbody>\n",
       "    <tr>\n",
       "      <th>0</th>\n",
       "      <td>1980290</td>\n",
       "      <td>083040BB6B1D95F2B8AC447B50D21DAB38DAFF16</td>\n",
       "      <td>13</td>\n",
       "    </tr>\n",
       "    <tr>\n",
       "      <th>1</th>\n",
       "      <td>tornadof</td>\n",
       "      <td>0A7709AD9837766F20156FF016ABF66F8036ABC1</td>\n",
       "      <td>13</td>\n",
       "    </tr>\n",
       "    <tr>\n",
       "      <th>2</th>\n",
       "      <td>vova87654</td>\n",
       "      <td>66221A7691CDC27D9D31071A0CFA0712C100C7D7</td>\n",
       "      <td>13</td>\n",
       "    </tr>\n",
       "    <tr>\n",
       "      <th>3</th>\n",
       "      <td>XpKvShrO</td>\n",
       "      <td>4CB7086C94AE4D82E519FF8F98D0DA1DA38DBE53</td>\n",
       "      <td>13</td>\n",
       "    </tr>\n",
       "    <tr>\n",
       "      <th>4</th>\n",
       "      <td>tvjgtl</td>\n",
       "      <td>9E1FD26A17D2EBE7C9FD4181EF49424C7091D484</td>\n",
       "      <td>13</td>\n",
       "    </tr>\n",
       "    <tr>\n",
       "      <th>...</th>\n",
       "      <td>...</td>\n",
       "      <td>...</td>\n",
       "      <td>...</td>\n",
       "    </tr>\n",
       "    <tr>\n",
       "      <th>6840</th>\n",
       "      <td>491144</td>\n",
       "      <td>4511C39CDA1EFE76964C79783B52053BA7CD09DD</td>\n",
       "      <td>69</td>\n",
       "    </tr>\n",
       "    <tr>\n",
       "      <th>6841</th>\n",
       "      <td>xeyfhm3477362341</td>\n",
       "      <td>E2EC663D721E9F22F5CF39D5AA27A89CE00172D0</td>\n",
       "      <td>69</td>\n",
       "    </tr>\n",
       "    <tr>\n",
       "      <th>6842</th>\n",
       "      <td>irontree4</td>\n",
       "      <td>350AA827594B47AF3BCB9256E2388EFB958C4529</td>\n",
       "      <td>69</td>\n",
       "    </tr>\n",
       "    <tr>\n",
       "      <th>6843</th>\n",
       "      <td>wh2t3v3r</td>\n",
       "      <td>221C76F1C2AD5883003AF5EB7A495A41580B87C5</td>\n",
       "      <td>69</td>\n",
       "    </tr>\n",
       "    <tr>\n",
       "      <th>6844</th>\n",
       "      <td>santomas</td>\n",
       "      <td>510B26B12A43531A14333545C6D802E47FA411AC</td>\n",
       "      <td>69</td>\n",
       "    </tr>\n",
       "  </tbody>\n",
       "</table>\n",
       "<p>677568 rows × 3 columns</p>\n",
       "</div>"
      ],
      "text/plain": [
       "              password                                      hash  count\n",
       "0              1980290  083040BB6B1D95F2B8AC447B50D21DAB38DAFF16     13\n",
       "1             tornadof  0A7709AD9837766F20156FF016ABF66F8036ABC1     13\n",
       "2            vova87654  66221A7691CDC27D9D31071A0CFA0712C100C7D7     13\n",
       "3             XpKvShrO  4CB7086C94AE4D82E519FF8F98D0DA1DA38DBE53     13\n",
       "4               tvjgtl  9E1FD26A17D2EBE7C9FD4181EF49424C7091D484     13\n",
       "...                ...                                       ...    ...\n",
       "6840            491144  4511C39CDA1EFE76964C79783B52053BA7CD09DD     69\n",
       "6841  xeyfhm3477362341  E2EC663D721E9F22F5CF39D5AA27A89CE00172D0     69\n",
       "6842         irontree4  350AA827594B47AF3BCB9256E2388EFB958C4529     69\n",
       "6843          wh2t3v3r  221C76F1C2AD5883003AF5EB7A495A41580B87C5     69\n",
       "6844          santomas  510B26B12A43531A14333545C6D802E47FA411AC     69\n",
       "\n",
       "[677568 rows x 3 columns]"
      ]
     },
     "execution_count": 273,
     "metadata": {},
     "output_type": "execute_result"
    }
   ],
   "source": [
    "data =pd.read_csv('passwords/pass (1).csv')\n",
    "for i in range(2,100):\n",
    "    filename = pd.read_csv('passwords/pass ('+str(i)+').csv')\n",
    "    data = pd.concat([data,filename],axis=0)\n",
    "data"
   ]
  },
  {
   "cell_type": "markdown",
   "metadata": {},
   "source": [
    "## Perfilado de Datos\n",
    "\n",
    "Para esto, vamos a ver algunas características de los datos, como sus valores nulos y duplicados."
   ]
  },
  {
   "cell_type": "code",
   "execution_count": 274,
   "metadata": {},
   "outputs": [
    {
     "data": {
      "text/plain": [
       "password    2\n",
       "hash        0\n",
       "count       0\n",
       "dtype: int64"
      ]
     },
     "execution_count": 274,
     "metadata": {},
     "output_type": "execute_result"
    }
   ],
   "source": [
    "data.isnull().sum()"
   ]
  },
  {
   "cell_type": "code",
   "execution_count": 275,
   "metadata": {},
   "outputs": [
    {
     "data": {
      "text/plain": [
       "password    0\n",
       "hash        0\n",
       "count       0\n",
       "dtype: int64"
      ]
     },
     "execution_count": 275,
     "metadata": {},
     "output_type": "execute_result"
    }
   ],
   "source": [
    "data = data.dropna(axis=0)\n",
    "data.isnull().sum()"
   ]
  },
  {
   "cell_type": "markdown",
   "metadata": {},
   "source": [
    "Ahora, existen valores duplicados en cada documento, que son el conteo de contraseñas segmentado, por lo cual será adecuado sumar las cuentas de todos los duplicados\n",
    "para obtener el número de veces que cada contraseña fue usada.\n",
    "\n",
    "Adicionalmente, en este momento no haremos usos de las firmas hash, puesto que no son relevantes para nuestro caso de estudio"
   ]
  },
  {
   "cell_type": "code",
   "execution_count": 276,
   "metadata": {},
   "outputs": [
    {
     "name": "stdout",
     "output_type": "stream",
     "text": [
      "(677566, 2)\n"
     ]
    },
    {
     "data": {
      "text/html": [
       "<div>\n",
       "<style scoped>\n",
       "    .dataframe tbody tr th:only-of-type {\n",
       "        vertical-align: middle;\n",
       "    }\n",
       "\n",
       "    .dataframe tbody tr th {\n",
       "        vertical-align: top;\n",
       "    }\n",
       "\n",
       "    .dataframe thead th {\n",
       "        text-align: right;\n",
       "    }\n",
       "</style>\n",
       "<table border=\"1\" class=\"dataframe\">\n",
       "  <thead>\n",
       "    <tr style=\"text-align: right;\">\n",
       "      <th></th>\n",
       "      <th>password</th>\n",
       "      <th>count</th>\n",
       "    </tr>\n",
       "  </thead>\n",
       "  <tbody>\n",
       "    <tr>\n",
       "      <th>0</th>\n",
       "      <td>!!!!!</td>\n",
       "      <td>401</td>\n",
       "    </tr>\n",
       "    <tr>\n",
       "      <th>1</th>\n",
       "      <td>!!!!!!</td>\n",
       "      <td>2304</td>\n",
       "    </tr>\n",
       "    <tr>\n",
       "      <th>2</th>\n",
       "      <td>!!!!!!!</td>\n",
       "      <td>386</td>\n",
       "    </tr>\n",
       "    <tr>\n",
       "      <th>3</th>\n",
       "      <td>!12345</td>\n",
       "      <td>312</td>\n",
       "    </tr>\n",
       "    <tr>\n",
       "      <th>4</th>\n",
       "      <td>!23456</td>\n",
       "      <td>347</td>\n",
       "    </tr>\n",
       "  </tbody>\n",
       "</table>\n",
       "</div>"
      ],
      "text/plain": [
       "  password  count\n",
       "0    !!!!!    401\n",
       "1   !!!!!!   2304\n",
       "2  !!!!!!!    386\n",
       "3   !12345    312\n",
       "4   !23456    347"
      ]
     },
     "execution_count": 276,
     "metadata": {},
     "output_type": "execute_result"
    }
   ],
   "source": [
    "data = data.groupby(data['password']).agg({'count':sum}).reset_index()\n",
    "print(data.shape)\n",
    "data.head()"
   ]
  },
  {
   "cell_type": "markdown",
   "metadata": {},
   "source": [
    "## Exploración de los datos:\n",
    "\n",
    "Veamos algunas de las contraseñas más utilizadas"
   ]
  },
  {
   "cell_type": "code",
   "execution_count": 277,
   "metadata": {},
   "outputs": [
    {
     "data": {
      "text/html": [
       "<div>\n",
       "<style scoped>\n",
       "    .dataframe tbody tr th:only-of-type {\n",
       "        vertical-align: middle;\n",
       "    }\n",
       "\n",
       "    .dataframe tbody tr th {\n",
       "        vertical-align: top;\n",
       "    }\n",
       "\n",
       "    .dataframe thead th {\n",
       "        text-align: right;\n",
       "    }\n",
       "</style>\n",
       "<table border=\"1\" class=\"dataframe\">\n",
       "  <thead>\n",
       "    <tr style=\"text-align: right;\">\n",
       "      <th></th>\n",
       "      <th>password</th>\n",
       "      <th>count</th>\n",
       "    </tr>\n",
       "  </thead>\n",
       "  <tbody>\n",
       "    <tr>\n",
       "      <th>43879</th>\n",
       "      <td>123456789</td>\n",
       "      <td>7016669</td>\n",
       "    </tr>\n",
       "    <tr>\n",
       "      <th>506981</th>\n",
       "      <td>qwerty</td>\n",
       "      <td>3599486</td>\n",
       "    </tr>\n",
       "    <tr>\n",
       "      <th>35227</th>\n",
       "      <td>111111</td>\n",
       "      <td>2900049</td>\n",
       "    </tr>\n",
       "    <tr>\n",
       "      <th>43856</th>\n",
       "      <td>12345678</td>\n",
       "      <td>2680521</td>\n",
       "    </tr>\n",
       "    <tr>\n",
       "      <th>223879</th>\n",
       "      <td>abc123</td>\n",
       "      <td>2670319</td>\n",
       "    </tr>\n",
       "  </tbody>\n",
       "</table>\n",
       "</div>"
      ],
      "text/plain": [
       "         password    count\n",
       "43879   123456789  7016669\n",
       "506981     qwerty  3599486\n",
       "35227      111111  2900049\n",
       "43856    12345678  2680521\n",
       "223879     abc123  2670319"
      ]
     },
     "execution_count": 277,
     "metadata": {},
     "output_type": "execute_result"
    }
   ],
   "source": [
    "data = data.sort_values(by='count',ascending=False)\n",
    "data.head()"
   ]
  },
  {
   "cell_type": "markdown",
   "metadata": {},
   "source": [
    "La cuenta de aquellas contraseñas que tienen únicamente valores numéricos:"
   ]
  },
  {
   "cell_type": "code",
   "execution_count": 278,
   "metadata": {},
   "outputs": [
    {
     "name": "stdout",
     "output_type": "stream",
     "text": [
      "Contraseñas formadas por números:\n",
      "142340\n",
      "Suma del uso de contraseñas formadas por números\n",
      "171260703\n"
     ]
    }
   ],
   "source": [
    "# Variable que guardará el total de contraseñas con esta característica y las veces que fueron utilizadas\n",
    "data_patrones = []\n",
    "\n",
    "numeric = data[data['password'].str.isnumeric() == True].count()[0]\n",
    "numeric_count_sum = data[data['password'].str.isnumeric() == True]['count'].sum()\n",
    "\n",
    "print('Contraseñas formadas por números:')\n",
    "print(numeric)\n",
    "print('Suma del uso de contraseñas formadas por números')\n",
    "print(numeric_count_sum)\n",
    "\n",
    "data_patrones += 'Numeric only', numeric, numeric_count_sum"
   ]
  },
  {
   "cell_type": "code",
   "execution_count": 279,
   "metadata": {},
   "outputs": [
    {
     "name": "stdout",
     "output_type": "stream",
     "text": [
      "Contraseñas formadas por letras:\n",
      "278189\n",
      "Suma del uso de contraseñas formadas por letras\n",
      "335503274\n"
     ]
    }
   ],
   "source": [
    "alpha = data[data['password'].str.isalpha() == True].count()[0]\n",
    "alpha_count_sum = data[data['password'].str.isalpha() == True]['count'].sum()\n",
    "\n",
    "print('Contraseñas formadas por letras:')\n",
    "print(alpha)\n",
    "print('Suma del uso de contraseñas formadas por letras')\n",
    "print(alpha_count_sum)\n",
    "\n",
    "data_patrones += 'Alpha only', alpha, alpha_count_sum"
   ]
  },
  {
   "cell_type": "markdown",
   "metadata": {},
   "source": [
    "---\n",
    "A continuación consideraremos que una contraseña corta es aquella con menos de 8 carácteres:"
   ]
  },
  {
   "cell_type": "code",
   "execution_count": 280,
   "metadata": {},
   "outputs": [
    {
     "name": "stdout",
     "output_type": "stream",
     "text": [
      "Contraseñas cortas:\n",
      "382452\n",
      "Suma del uso de contraseñas cortas\n",
      "477964360\n"
     ]
    }
   ],
   "source": [
    "short_pass = data[data['password'].str.len() < 8].count()[0]\n",
    "short_pass_count_sum = data[data['password'].str.len() < 8]['count'].sum()\n",
    "\n",
    "print('Contraseñas cortas:')\n",
    "print(short_pass)\n",
    "print('Suma del uso de contraseñas cortas')\n",
    "print(short_pass_count_sum)\n",
    "\n",
    "data_patrones += 'Short Passwords', short_pass, short_pass_count_sum"
   ]
  },
  {
   "cell_type": "markdown",
   "metadata": {},
   "source": [
    "---\n",
    "Y analizamos aquellas que tienen carácteres poco comunes o poco usados, como guiones, signos de exclamación, etc."
   ]
  },
  {
   "cell_type": "code",
   "execution_count": 281,
   "metadata": {},
   "outputs": [
    {
     "name": "stderr",
     "output_type": "stream",
     "text": [
      "/home/oswald/anaconda3/lib/python3.8/site-packages/pandas/core/strings.py:1954: UserWarning: This pattern has match groups. To actually get the groups, use str.extract.\n",
      "  return func(self, *args, **kwargs)\n"
     ]
    },
    {
     "name": "stdout",
     "output_type": "stream",
     "text": [
      "Contraseñas cortas:\n",
      "2147\n",
      "Suma del uso de contraseñas cortas\n",
      "1977061\n"
     ]
    }
   ],
   "source": [
    "special_chars = ['!','\"','#','<','>','%','&','/','=',\n",
    "                '(\\?)','(\\()','(\\))',\"'\",'¡','¿','(\\+)','~',']','}',\n",
    "                '(\\[)','{',',',';',':','(\\.)','_','-','(\\*)','(\\^)']\n",
    "\n",
    "special_chars = '|'.join(special_chars)\n",
    "special_pass = data[data['password'].str.contains(special_chars) == True].count()[0]\n",
    "special_pass_count_sum = data[data['password'].str.contains(special_chars) == True]['count'].sum()\n",
    "\n",
    "print('Contraseñas cortas:')\n",
    "print(special)\n",
    "print('Suma del uso de contraseñas cortas')\n",
    "print(special_pass_count_sum)\n",
    "\n",
    "data_patrones += 'Special Characters', special_pass, special_pass_count_sum"
   ]
  },
  {
   "cell_type": "markdown",
   "metadata": {},
   "source": [
    "Siguientes pasos:\n",
    "- Análisis de las frecuencias\n",
    "- Generar métrica para el score para las contraseñas de acuerdo a su frecuencia\n",
    "- Red neuronal Recurrente (?) para evaluar seguridad de una contraseña entrenada con las scores del punto anterior\n",
    "- Hacer análisis mediante k-neighbors o kohonen para comparar\n",
    "- Proponer contraseñas seguras (por definir método)"
   ]
  },
  {
   "cell_type": "code",
   "execution_count": null,
   "metadata": {},
   "outputs": [],
   "source": []
  },
  {
   "cell_type": "code",
   "execution_count": null,
   "metadata": {},
   "outputs": [],
   "source": []
  },
  {
   "cell_type": "code",
   "execution_count": null,
   "metadata": {},
   "outputs": [],
   "source": []
  },
  {
   "cell_type": "code",
   "execution_count": null,
   "metadata": {},
   "outputs": [],
   "source": []
  },
  {
   "cell_type": "code",
   "execution_count": null,
   "metadata": {},
   "outputs": [],
   "source": []
  },
  {
   "cell_type": "code",
   "execution_count": null,
   "metadata": {},
   "outputs": [],
   "source": []
  },
  {
   "cell_type": "code",
   "execution_count": null,
   "metadata": {},
   "outputs": [],
   "source": []
  },
  {
   "cell_type": "code",
   "execution_count": null,
   "metadata": {},
   "outputs": [],
   "source": []
  },
  {
   "cell_type": "code",
   "execution_count": null,
   "metadata": {},
   "outputs": [],
   "source": []
  },
  {
   "cell_type": "code",
   "execution_count": null,
   "metadata": {},
   "outputs": [],
   "source": []
  },
  {
   "cell_type": "code",
   "execution_count": null,
   "metadata": {},
   "outputs": [],
   "source": []
  },
  {
   "cell_type": "code",
   "execution_count": null,
   "metadata": {},
   "outputs": [],
   "source": []
  },
  {
   "cell_type": "code",
   "execution_count": null,
   "metadata": {},
   "outputs": [],
   "source": []
  }
 ],
 "metadata": {
  "kernelspec": {
   "display_name": "Python 3",
   "language": "python",
   "name": "python3"
  },
  "language_info": {
   "codemirror_mode": {
    "name": "ipython",
    "version": 3
   },
   "file_extension": ".py",
   "mimetype": "text/x-python",
   "name": "python",
   "nbconvert_exporter": "python",
   "pygments_lexer": "ipython3",
   "version": "3.8.3"
  }
 },
 "nbformat": 4,
 "nbformat_minor": 4
}
