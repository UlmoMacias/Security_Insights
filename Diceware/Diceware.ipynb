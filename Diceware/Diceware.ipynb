{
 "metadata": {
  "language_info": {
   "codemirror_mode": {
    "name": "ipython",
    "version": 3
   },
   "file_extension": ".py",
   "mimetype": "text/x-python",
   "name": "python",
   "nbconvert_exporter": "python",
   "pygments_lexer": "ipython3",
   "version": "3.8.3-final"
  },
  "orig_nbformat": 2,
  "kernelspec": {
   "name": "python3",
   "display_name": "Python 3",
   "language": "python"
  }
 },
 "nbformat": 4,
 "nbformat_minor": 2,
 "cells": [
  {
   "cell_type": "code",
   "execution_count": 1,
   "metadata": {},
   "outputs": [],
   "source": [
    "import random\n",
    "import pandas as pd"
   ]
  },
  {
   "cell_type": "code",
   "execution_count": 49,
   "metadata": {},
   "outputs": [],
   "source": [
    "def get_pass(n):\n",
    "    data = pd.read_csv(\"my_dicewareEsp.csv\")\n",
    "    palabras = data.sample(n)\n",
    "    #print(palabras)\n",
    "    passphrase = \"\"\n",
    "    for val in palabras[\"valor\"]:\n",
    "        passphrase = passphrase + val +\"_\"\n",
    "    return passphrase[:-1]"
   ]
  },
  {
   "cell_type": "code",
   "execution_count": 71,
   "metadata": {},
   "outputs": [
    {
     "output_type": "execute_result",
     "data": {
      "text/plain": [
       "'muerte_servil_bongo_p48_freno'"
      ]
     },
     "metadata": {},
     "execution_count": 71
    }
   ],
   "source": [
    "get_pass(5)"
   ]
  }
 ]
}