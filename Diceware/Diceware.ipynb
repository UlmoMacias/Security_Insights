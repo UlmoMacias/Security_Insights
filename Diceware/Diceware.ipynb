{
 "metadata": {
  "language_info": {
   "codemirror_mode": {
    "name": "ipython",
    "version": 3
   },
   "file_extension": ".py",
   "mimetype": "text/x-python",
   "name": "python",
   "nbconvert_exporter": "python",
   "pygments_lexer": "ipython3",
   "version": "3.8.3-final"
  },
  "orig_nbformat": 2,
  "kernelspec": {
   "name": "python3",
   "display_name": "Python 3",
   "language": "python"
  }
 },
 "nbformat": 4,
 "nbformat_minor": 2,
 "cells": [
  {
   "cell_type": "code",
   "execution_count": 3,
   "metadata": {},
   "outputs": [],
   "source": [
    "import random\n",
    "import pandas as pd"
   ]
  },
  {
   "cell_type": "code",
   "execution_count": 4,
   "metadata": {},
   "outputs": [],
   "source": [
    "def get_pass(n):\n",
    "    data = pd.read_csv(\"my_dicewareEsp.csv\")\n",
    "    palabras = data.sample(n)\n",
    "    #print(palabras)\n",
    "    passphrase = \"\"\n",
    "    for val in palabras[\"valor\"]:\n",
    "        passphrase = passphrase + val +\"_\"\n",
    "    return passphrase[:-1]"
   ]
  },
  {
   "cell_type": "code",
   "execution_count": 7,
   "metadata": {},
   "outputs": [
    {
     "output_type": "stream",
     "name": "stdout",
     "text": [
      "afta_772_filo_s18_196\nafta772filos18196\n"
     ]
    }
   ],
   "source": [
    "a = get_pass(5)\n",
    "print(a)\n",
    "print(a.replace(\"_\",\"\"))"
   ]
  },
  {
   "cell_type": "code",
   "execution_count": null,
   "metadata": {},
   "outputs": [],
   "source": []
  }
 ]
}