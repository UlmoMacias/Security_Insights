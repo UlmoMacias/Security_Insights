{
 "cells": [
  {
   "cell_type": "code",
   "execution_count": 16,
   "metadata": {
    "ExecuteTime": {
     "end_time": "2020-11-27T02:26:51.747936Z",
     "start_time": "2020-11-27T02:26:49.037112Z"
    }
   },
   "outputs": [
    {
     "name": "stdout",
     "output_type": "stream",
     "text": [
      "       password                                      hash  count\n",
      "0       1980290  083040BB6B1D95F2B8AC447B50D21DAB38DAFF16     13\n",
      "1      tornadof  0A7709AD9837766F20156FF016ABF66F8036ABC1     13\n",
      "2     vova87654  66221A7691CDC27D9D31071A0CFA0712C100C7D7     13\n",
      "3      XpKvShrO  4CB7086C94AE4D82E519FF8F98D0DA1DA38DBE53     13\n",
      "4        tvjgtl  9E1FD26A17D2EBE7C9FD4181EF49424C7091D484     13\n",
      "...         ...                                       ...    ...\n",
      "6840       Gerd  57A4862F88FE6071C919C2339F76C4A64BFB9E25     69\n",
      "6841  04011991j  0A7EB77C98C1602A064778C87964359D9A3A2A3C     69\n",
      "6842    5101957  733B5C6641B2E28DBDD408039A50D951E40A85C3     69\n",
      "6843  yeuanhnhe  3DA3F93506F3202E39D8929FB8F418A4C2A2A466     69\n",
      "6844  08101991n  727DF2A78F4F0AEFD58BE23EC35744AE9D81AF66     69\n",
      "\n",
      "[6845 rows x 3 columns]\n"
     ]
    },
    {
     "data": {
      "text/html": [
       "<div>\n",
       "<style scoped>\n",
       "    .dataframe tbody tr th:only-of-type {\n",
       "        vertical-align: middle;\n",
       "    }\n",
       "\n",
       "    .dataframe tbody tr th {\n",
       "        vertical-align: top;\n",
       "    }\n",
       "\n",
       "    .dataframe thead th {\n",
       "        text-align: right;\n",
       "    }\n",
       "</style>\n",
       "<table border=\"1\" class=\"dataframe\">\n",
       "  <thead>\n",
       "    <tr style=\"text-align: right;\">\n",
       "      <th></th>\n",
       "      <th>password</th>\n",
       "      <th>hash</th>\n",
       "      <th>count</th>\n",
       "    </tr>\n",
       "  </thead>\n",
       "  <tbody>\n",
       "    <tr>\n",
       "      <th>0</th>\n",
       "      <td>1980290</td>\n",
       "      <td>083040BB6B1D95F2B8AC447B50D21DAB38DAFF16</td>\n",
       "      <td>13</td>\n",
       "    </tr>\n",
       "    <tr>\n",
       "      <th>1</th>\n",
       "      <td>tornadof</td>\n",
       "      <td>0A7709AD9837766F20156FF016ABF66F8036ABC1</td>\n",
       "      <td>13</td>\n",
       "    </tr>\n",
       "    <tr>\n",
       "      <th>2</th>\n",
       "      <td>vova87654</td>\n",
       "      <td>66221A7691CDC27D9D31071A0CFA0712C100C7D7</td>\n",
       "      <td>13</td>\n",
       "    </tr>\n",
       "    <tr>\n",
       "      <th>3</th>\n",
       "      <td>XpKvShrO</td>\n",
       "      <td>4CB7086C94AE4D82E519FF8F98D0DA1DA38DBE53</td>\n",
       "      <td>13</td>\n",
       "    </tr>\n",
       "    <tr>\n",
       "      <th>4</th>\n",
       "      <td>tvjgtl</td>\n",
       "      <td>9E1FD26A17D2EBE7C9FD4181EF49424C7091D484</td>\n",
       "      <td>13</td>\n",
       "    </tr>\n",
       "    <tr>\n",
       "      <th>...</th>\n",
       "      <td>...</td>\n",
       "      <td>...</td>\n",
       "      <td>...</td>\n",
       "    </tr>\n",
       "    <tr>\n",
       "      <th>6840</th>\n",
       "      <td>buttaz</td>\n",
       "      <td>4D53CF17A11A4A77A40185E47F60B27751A48587</td>\n",
       "      <td>69</td>\n",
       "    </tr>\n",
       "    <tr>\n",
       "      <th>6841</th>\n",
       "      <td>micelli</td>\n",
       "      <td>EB60AB2E75E2F2DC1B03585DA7EBEB93C5E896F9</td>\n",
       "      <td>69</td>\n",
       "    </tr>\n",
       "    <tr>\n",
       "      <th>6842</th>\n",
       "      <td>ukumar</td>\n",
       "      <td>7250D78BF6C7C05F1ABDB6E4E4D0E4829B7500B0</td>\n",
       "      <td>69</td>\n",
       "    </tr>\n",
       "    <tr>\n",
       "      <th>6843</th>\n",
       "      <td>paytonm</td>\n",
       "      <td>27CFA678364A1FEB72B1CBD51CFB08DBA0A0ED1A</td>\n",
       "      <td>69</td>\n",
       "    </tr>\n",
       "    <tr>\n",
       "      <th>6844</th>\n",
       "      <td>5533123</td>\n",
       "      <td>693EAE0E0B61F2255ED447E41236070C8C9C8885</td>\n",
       "      <td>69</td>\n",
       "    </tr>\n",
       "  </tbody>\n",
       "</table>\n",
       "<p>691258 rows × 3 columns</p>\n",
       "</div>"
      ],
      "text/plain": [
       "       password                                      hash  count\n",
       "0       1980290  083040BB6B1D95F2B8AC447B50D21DAB38DAFF16     13\n",
       "1      tornadof  0A7709AD9837766F20156FF016ABF66F8036ABC1     13\n",
       "2     vova87654  66221A7691CDC27D9D31071A0CFA0712C100C7D7     13\n",
       "3      XpKvShrO  4CB7086C94AE4D82E519FF8F98D0DA1DA38DBE53     13\n",
       "4        tvjgtl  9E1FD26A17D2EBE7C9FD4181EF49424C7091D484     13\n",
       "...         ...                                       ...    ...\n",
       "6840     buttaz  4D53CF17A11A4A77A40185E47F60B27751A48587     69\n",
       "6841    micelli  EB60AB2E75E2F2DC1B03585DA7EBEB93C5E896F9     69\n",
       "6842     ukumar  7250D78BF6C7C05F1ABDB6E4E4D0E4829B7500B0     69\n",
       "6843    paytonm  27CFA678364A1FEB72B1CBD51CFB08DBA0A0ED1A     69\n",
       "6844    5533123  693EAE0E0B61F2255ED447E41236070C8C9C8885     69\n",
       "\n",
       "[691258 rows x 3 columns]"
      ]
     },
     "execution_count": 16,
     "metadata": {},
     "output_type": "execute_result"
    }
   ],
   "source": [
    "import pandas as pd\n",
    "\n",
    "#   pass (i).csv    1:100\n",
    "data = pd.read_csv('pass (1).csv')\n",
    "print(data)\n",
    "\n",
    "for i in range(100):\n",
    "    filename = pd.read_csv('pass ('+str(i+1)+').csv')\n",
    "    #data = pd.merge(data, filename, on='password', how='outer')\n",
    "    #data.join(filename.set_index('password'), on='password')\n",
    "    data = pd.concat([data,filename],axis=0)\n",
    "\n",
    "data"
   ]
  },
  {
   "cell_type": "code",
   "execution_count": null,
   "metadata": {},
   "outputs": [],
   "source": []
  }
 ],
 "metadata": {
  "hide_input": false,
  "kernelspec": {
   "display_name": "Python 3",
   "language": "python",
   "name": "python3"
  },
  "language_info": {
   "codemirror_mode": {
    "name": "ipython",
    "version": 3
   },
   "file_extension": ".py",
   "mimetype": "text/x-python",
   "name": "python",
   "nbconvert_exporter": "python",
   "pygments_lexer": "ipython3",
   "version": "3.8.3"
  },
  "varInspector": {
   "cols": {
    "lenName": 16,
    "lenType": 16,
    "lenVar": 40
   },
   "kernels_config": {
    "python": {
     "delete_cmd_postfix": "",
     "delete_cmd_prefix": "del ",
     "library": "var_list.py",
     "varRefreshCmd": "print(var_dic_list())"
    },
    "r": {
     "delete_cmd_postfix": ") ",
     "delete_cmd_prefix": "rm(",
     "library": "var_list.r",
     "varRefreshCmd": "cat(var_dic_list()) "
    }
   },
   "types_to_exclude": [
    "module",
    "function",
    "builtin_function_or_method",
    "instance",
    "_Feature"
   ],
   "window_display": false
  }
 },
 "nbformat": 4,
 "nbformat_minor": 4
}
