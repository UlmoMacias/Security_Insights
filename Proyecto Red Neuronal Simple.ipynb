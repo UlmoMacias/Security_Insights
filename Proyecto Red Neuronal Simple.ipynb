{
 "cells": [
  {
   "cell_type": "markdown",
   "metadata": {},
   "source": [
    "# Proyecto"
   ]
  },
  {
   "cell_type": "markdown",
   "metadata": {},
   "source": [
    "Objetivo: Analizar la seguridad de contraseñas con base en la lista de contraseñas y su frecuencia de uso"
   ]
  },
  {
   "cell_type": "markdown",
   "metadata": {},
   "source": [
    "- Los problemas de clasificación predicen una lista ordenada o una clasificación de objetos, la manera en el que se realizó la consulta. Esto podría ser bastante práctico si lo que queremos es regresar la lista de contraseñas que alguien podría colocar al momento de ingresar su contraseña. \n",
    "- La clasificación predice una etiqueta y los problemas incluyen problemas binarios de \"sí o no\" como \"si esta imagen es un corgi o un muffin de arándanos\", así como problemas de clasificación múltiple como \"si esto es bueno, malo o promedio\". Con la clasificación, las respuestas correctas deben etiquetarse para que su algoritmo pueda aprender de ellas.\n",
    "- Exactamente, que es lo que deseamos encontrar?\n",
    "- Que tipo de visualizaciones se elige?\n",
    "\n",
    "Fuente de la información:\n",
    "1. Bruteforce Database Github\n",
    "2. https://github.com/duyet/bruteforce-database\n",
    "3. https://haveibeenpwned.com/Passwords **Pwned Passwords 20 GB.**\n",
    "4. https://www.kaggle.com/search?q=passwords\n",
    "5. https://github.com/robinske/password-data"
   ]
  },
  {
   "cell_type": "markdown",
   "metadata": {},
   "source": [
    "Primero haremos una exploración de los datos:"
   ]
  },
  {
   "cell_type": "code",
   "execution_count": 1,
   "metadata": {
    "ExecuteTime": {
     "end_time": "2021-01-23T17:10:06.463062Z",
     "start_time": "2021-01-23T17:10:04.494182Z"
    }
   },
   "outputs": [],
   "source": [
    "import pandas as pd\n",
    "import matplotlib.pyplot as plt\n",
    "import numpy as np\n",
    "import seaborn as sns\n",
    "from numpy import random\n",
    "from torch.multiprocessing import Process, Queue, Lock\n",
    "import multiprocessing as mp\n",
    "import torch"
   ]
  },
  {
   "cell_type": "code",
   "execution_count": 2,
   "metadata": {
    "ExecuteTime": {
     "end_time": "2021-01-23T17:10:09.059375Z",
     "start_time": "2021-01-23T17:10:06.467989Z"
    }
   },
   "outputs": [
    {
     "data": {
      "text/html": [
       "<div>\n",
       "<style scoped>\n",
       "    .dataframe tbody tr th:only-of-type {\n",
       "        vertical-align: middle;\n",
       "    }\n",
       "\n",
       "    .dataframe tbody tr th {\n",
       "        vertical-align: top;\n",
       "    }\n",
       "\n",
       "    .dataframe thead th {\n",
       "        text-align: right;\n",
       "    }\n",
       "</style>\n",
       "<table border=\"1\" class=\"dataframe\">\n",
       "  <thead>\n",
       "    <tr style=\"text-align: right;\">\n",
       "      <th></th>\n",
       "      <th>password</th>\n",
       "      <th>hash</th>\n",
       "      <th>count</th>\n",
       "    </tr>\n",
       "  </thead>\n",
       "  <tbody>\n",
       "    <tr>\n",
       "      <th>0</th>\n",
       "      <td>1980290</td>\n",
       "      <td>083040BB6B1D95F2B8AC447B50D21DAB38DAFF16</td>\n",
       "      <td>13</td>\n",
       "    </tr>\n",
       "    <tr>\n",
       "      <th>1</th>\n",
       "      <td>tornadof</td>\n",
       "      <td>0A7709AD9837766F20156FF016ABF66F8036ABC1</td>\n",
       "      <td>13</td>\n",
       "    </tr>\n",
       "    <tr>\n",
       "      <th>2</th>\n",
       "      <td>vova87654</td>\n",
       "      <td>66221A7691CDC27D9D31071A0CFA0712C100C7D7</td>\n",
       "      <td>13</td>\n",
       "    </tr>\n",
       "    <tr>\n",
       "      <th>3</th>\n",
       "      <td>XpKvShrO</td>\n",
       "      <td>4CB7086C94AE4D82E519FF8F98D0DA1DA38DBE53</td>\n",
       "      <td>13</td>\n",
       "    </tr>\n",
       "    <tr>\n",
       "      <th>4</th>\n",
       "      <td>tvjgtl</td>\n",
       "      <td>9E1FD26A17D2EBE7C9FD4181EF49424C7091D484</td>\n",
       "      <td>13</td>\n",
       "    </tr>\n",
       "    <tr>\n",
       "      <th>...</th>\n",
       "      <td>...</td>\n",
       "      <td>...</td>\n",
       "      <td>...</td>\n",
       "    </tr>\n",
       "    <tr>\n",
       "      <th>6840</th>\n",
       "      <td>491144</td>\n",
       "      <td>4511C39CDA1EFE76964C79783B52053BA7CD09DD</td>\n",
       "      <td>69</td>\n",
       "    </tr>\n",
       "    <tr>\n",
       "      <th>6841</th>\n",
       "      <td>xeyfhm3477362341</td>\n",
       "      <td>E2EC663D721E9F22F5CF39D5AA27A89CE00172D0</td>\n",
       "      <td>69</td>\n",
       "    </tr>\n",
       "    <tr>\n",
       "      <th>6842</th>\n",
       "      <td>irontree4</td>\n",
       "      <td>350AA827594B47AF3BCB9256E2388EFB958C4529</td>\n",
       "      <td>69</td>\n",
       "    </tr>\n",
       "    <tr>\n",
       "      <th>6843</th>\n",
       "      <td>wh2t3v3r</td>\n",
       "      <td>221C76F1C2AD5883003AF5EB7A495A41580B87C5</td>\n",
       "      <td>69</td>\n",
       "    </tr>\n",
       "    <tr>\n",
       "      <th>6844</th>\n",
       "      <td>santomas</td>\n",
       "      <td>510B26B12A43531A14333545C6D802E47FA411AC</td>\n",
       "      <td>69</td>\n",
       "    </tr>\n",
       "  </tbody>\n",
       "</table>\n",
       "<p>677568 rows × 3 columns</p>\n",
       "</div>"
      ],
      "text/plain": [
       "              password                                      hash  count\n",
       "0              1980290  083040BB6B1D95F2B8AC447B50D21DAB38DAFF16     13\n",
       "1             tornadof  0A7709AD9837766F20156FF016ABF66F8036ABC1     13\n",
       "2            vova87654  66221A7691CDC27D9D31071A0CFA0712C100C7D7     13\n",
       "3             XpKvShrO  4CB7086C94AE4D82E519FF8F98D0DA1DA38DBE53     13\n",
       "4               tvjgtl  9E1FD26A17D2EBE7C9FD4181EF49424C7091D484     13\n",
       "...                ...                                       ...    ...\n",
       "6840            491144  4511C39CDA1EFE76964C79783B52053BA7CD09DD     69\n",
       "6841  xeyfhm3477362341  E2EC663D721E9F22F5CF39D5AA27A89CE00172D0     69\n",
       "6842         irontree4  350AA827594B47AF3BCB9256E2388EFB958C4529     69\n",
       "6843          wh2t3v3r  221C76F1C2AD5883003AF5EB7A495A41580B87C5     69\n",
       "6844          santomas  510B26B12A43531A14333545C6D802E47FA411AC     69\n",
       "\n",
       "[677568 rows x 3 columns]"
      ]
     },
     "execution_count": 2,
     "metadata": {},
     "output_type": "execute_result"
    }
   ],
   "source": [
    "data =pd.read_csv('passwords/pass (1).csv')\n",
    "for i in range(2,100):\n",
    "    filename = pd.read_csv('passwords/pass ('+str(i)+').csv')\n",
    "    data = pd.concat([data,filename],axis=0)\n",
    "data"
   ]
  },
  {
   "cell_type": "markdown",
   "metadata": {},
   "source": [
    "## Perfilado de Datos\n",
    "\n",
    "Para esto, vamos a ver algunas características de los datos, como sus valores nulos y duplicados."
   ]
  },
  {
   "cell_type": "code",
   "execution_count": 3,
   "metadata": {
    "ExecuteTime": {
     "end_time": "2021-01-23T17:10:09.111424Z",
     "start_time": "2021-01-23T17:10:09.060921Z"
    }
   },
   "outputs": [
    {
     "data": {
      "text/plain": [
       "password    2\n",
       "hash        0\n",
       "count       0\n",
       "dtype: int64"
      ]
     },
     "execution_count": 3,
     "metadata": {},
     "output_type": "execute_result"
    }
   ],
   "source": [
    "data.isnull().sum()"
   ]
  },
  {
   "cell_type": "code",
   "execution_count": 4,
   "metadata": {
    "ExecuteTime": {
     "end_time": "2021-01-23T17:10:09.230179Z",
     "start_time": "2021-01-23T17:10:09.112618Z"
    }
   },
   "outputs": [
    {
     "data": {
      "text/plain": [
       "password    0\n",
       "hash        0\n",
       "count       0\n",
       "dtype: int64"
      ]
     },
     "execution_count": 4,
     "metadata": {},
     "output_type": "execute_result"
    }
   ],
   "source": [
    "data = data.dropna(axis=0)\n",
    "data.isnull().sum()"
   ]
  },
  {
   "cell_type": "markdown",
   "metadata": {},
   "source": [
    "Ahora, existen valores duplicados en cada documento, que son el conteo de contraseñas segmentado, por lo cual será adecuado sumar las cuentas de todos los duplicados\n",
    "para obtener el número de veces que cada contraseña fue usada.\n",
    "\n",
    "Adicionalmente, en este momento no haremos usos de las firmas hash, puesto que no son relevantes para nuestro caso de estudio"
   ]
  },
  {
   "cell_type": "code",
   "execution_count": 5,
   "metadata": {
    "ExecuteTime": {
     "end_time": "2021-01-23T17:10:10.625085Z",
     "start_time": "2021-01-23T17:10:09.231219Z"
    }
   },
   "outputs": [
    {
     "name": "stdout",
     "output_type": "stream",
     "text": [
      "(677566, 2)\n"
     ]
    },
    {
     "data": {
      "text/html": [
       "<div>\n",
       "<style scoped>\n",
       "    .dataframe tbody tr th:only-of-type {\n",
       "        vertical-align: middle;\n",
       "    }\n",
       "\n",
       "    .dataframe tbody tr th {\n",
       "        vertical-align: top;\n",
       "    }\n",
       "\n",
       "    .dataframe thead th {\n",
       "        text-align: right;\n",
       "    }\n",
       "</style>\n",
       "<table border=\"1\" class=\"dataframe\">\n",
       "  <thead>\n",
       "    <tr style=\"text-align: right;\">\n",
       "      <th></th>\n",
       "      <th>password</th>\n",
       "      <th>count</th>\n",
       "    </tr>\n",
       "  </thead>\n",
       "  <tbody>\n",
       "    <tr>\n",
       "      <th>0</th>\n",
       "      <td>!!!!!</td>\n",
       "      <td>401</td>\n",
       "    </tr>\n",
       "    <tr>\n",
       "      <th>1</th>\n",
       "      <td>!!!!!!</td>\n",
       "      <td>2304</td>\n",
       "    </tr>\n",
       "    <tr>\n",
       "      <th>2</th>\n",
       "      <td>!!!!!!!</td>\n",
       "      <td>386</td>\n",
       "    </tr>\n",
       "    <tr>\n",
       "      <th>3</th>\n",
       "      <td>!12345</td>\n",
       "      <td>312</td>\n",
       "    </tr>\n",
       "    <tr>\n",
       "      <th>4</th>\n",
       "      <td>!23456</td>\n",
       "      <td>347</td>\n",
       "    </tr>\n",
       "  </tbody>\n",
       "</table>\n",
       "</div>"
      ],
      "text/plain": [
       "  password  count\n",
       "0    !!!!!    401\n",
       "1   !!!!!!   2304\n",
       "2  !!!!!!!    386\n",
       "3   !12345    312\n",
       "4   !23456    347"
      ]
     },
     "execution_count": 5,
     "metadata": {},
     "output_type": "execute_result"
    }
   ],
   "source": [
    "data = data.groupby(data['password']).agg({'count':sum}).reset_index()\n",
    "print(data.shape)\n",
    "data.head()"
   ]
  },
  {
   "cell_type": "markdown",
   "metadata": {},
   "source": [
    "## Exploración de los datos:\n",
    "\n",
    "Veamos algunas de las contraseñas más utilizadas"
   ]
  },
  {
   "cell_type": "code",
   "execution_count": 6,
   "metadata": {
    "ExecuteTime": {
     "end_time": "2021-01-23T17:10:10.749770Z",
     "start_time": "2021-01-23T17:10:10.627026Z"
    }
   },
   "outputs": [
    {
     "data": {
      "text/html": [
       "<div>\n",
       "<style scoped>\n",
       "    .dataframe tbody tr th:only-of-type {\n",
       "        vertical-align: middle;\n",
       "    }\n",
       "\n",
       "    .dataframe tbody tr th {\n",
       "        vertical-align: top;\n",
       "    }\n",
       "\n",
       "    .dataframe thead th {\n",
       "        text-align: right;\n",
       "    }\n",
       "</style>\n",
       "<table border=\"1\" class=\"dataframe\">\n",
       "  <thead>\n",
       "    <tr style=\"text-align: right;\">\n",
       "      <th></th>\n",
       "      <th>password</th>\n",
       "      <th>count</th>\n",
       "    </tr>\n",
       "  </thead>\n",
       "  <tbody>\n",
       "    <tr>\n",
       "      <th>43879</th>\n",
       "      <td>123456789</td>\n",
       "      <td>7016669</td>\n",
       "    </tr>\n",
       "    <tr>\n",
       "      <th>506981</th>\n",
       "      <td>qwerty</td>\n",
       "      <td>3599486</td>\n",
       "    </tr>\n",
       "    <tr>\n",
       "      <th>35227</th>\n",
       "      <td>111111</td>\n",
       "      <td>2900049</td>\n",
       "    </tr>\n",
       "    <tr>\n",
       "      <th>43856</th>\n",
       "      <td>12345678</td>\n",
       "      <td>2680521</td>\n",
       "    </tr>\n",
       "    <tr>\n",
       "      <th>223879</th>\n",
       "      <td>abc123</td>\n",
       "      <td>2670319</td>\n",
       "    </tr>\n",
       "  </tbody>\n",
       "</table>\n",
       "</div>"
      ],
      "text/plain": [
       "         password    count\n",
       "43879   123456789  7016669\n",
       "506981     qwerty  3599486\n",
       "35227      111111  2900049\n",
       "43856    12345678  2680521\n",
       "223879     abc123  2670319"
      ]
     },
     "execution_count": 6,
     "metadata": {},
     "output_type": "execute_result"
    }
   ],
   "source": [
    "data = data.sort_values(by='count',ascending=False)\n",
    "data.head()"
   ]
  },
  {
   "cell_type": "markdown",
   "metadata": {},
   "source": [
    "La cuenta de aquellas contraseñas que tienen únicamente valores numéricos:"
   ]
  },
  {
   "cell_type": "code",
   "execution_count": 7,
   "metadata": {
    "ExecuteTime": {
     "end_time": "2021-01-23T17:10:11.169734Z",
     "start_time": "2021-01-23T17:10:10.754245Z"
    }
   },
   "outputs": [
    {
     "name": "stdout",
     "output_type": "stream",
     "text": [
      "Contraseñas formadas por números:\n",
      "142340\n",
      "Suma del uso de contraseñas formadas por números\n",
      "171260703\n"
     ]
    }
   ],
   "source": [
    "# Variable que guardará el total de contraseñas con esta característica y las veces que fueron utilizadas\n",
    "data_patrones = []\n",
    "\n",
    "numeric = data[data['password'].str.isnumeric() == True].count()[0]\n",
    "numeric_count_sum = data[data['password'].str.isnumeric() == True]['count'].sum()\n",
    "\n",
    "print('Contraseñas formadas por números:')\n",
    "print(numeric)\n",
    "print('Suma del uso de contraseñas formadas por números')\n",
    "print(numeric_count_sum)\n",
    "\n",
    "data_patrones += 'Numeric only', numeric, numeric_count_sum"
   ]
  },
  {
   "cell_type": "code",
   "execution_count": 8,
   "metadata": {
    "ExecuteTime": {
     "end_time": "2021-01-23T17:10:11.514761Z",
     "start_time": "2021-01-23T17:10:11.171147Z"
    }
   },
   "outputs": [
    {
     "name": "stdout",
     "output_type": "stream",
     "text": [
      "Contraseñas formadas por letras:\n",
      "278189\n",
      "Suma del uso de contraseñas formadas por letras\n",
      "335503274\n"
     ]
    }
   ],
   "source": [
    "alpha = data[data['password'].str.isalpha() == True].count()[0]\n",
    "alpha_count_sum = data[data['password'].str.isalpha() == True]['count'].sum()\n",
    "\n",
    "print('Contraseñas formadas por letras:')\n",
    "print(alpha)\n",
    "print('Suma del uso de contraseñas formadas por letras')\n",
    "print(alpha_count_sum)\n",
    "\n",
    "data_patrones += 'Alpha only', alpha, alpha_count_sum"
   ]
  },
  {
   "cell_type": "markdown",
   "metadata": {},
   "source": [
    "---\n",
    "A continuación consideraremos que una contraseña corta es aquella con menos de 8 carácteres:"
   ]
  },
  {
   "cell_type": "code",
   "execution_count": 9,
   "metadata": {
    "ExecuteTime": {
     "end_time": "2021-01-23T17:10:11.982378Z",
     "start_time": "2021-01-23T17:10:11.515946Z"
    }
   },
   "outputs": [
    {
     "name": "stdout",
     "output_type": "stream",
     "text": [
      "Contraseñas cortas:\n",
      "382452\n",
      "Suma del uso de contraseñas cortas\n",
      "477964360\n"
     ]
    }
   ],
   "source": [
    "short_pass = data[data['password'].str.len() < 8].count()[0]\n",
    "short_pass_count_sum = data[data['password'].str.len() < 8]['count'].sum()\n",
    "\n",
    "print('Contraseñas cortas:')\n",
    "print(short_pass)\n",
    "print('Suma del uso de contraseñas cortas')\n",
    "print(short_pass_count_sum)\n",
    "\n",
    "data_patrones += 'Short Passwords', short_pass, short_pass_count_sum"
   ]
  },
  {
   "cell_type": "markdown",
   "metadata": {},
   "source": [
    "---\n",
    "Y analizamos aquellas que tienen carácteres poco comunes o poco usados, como guiones, signos de exclamación, etc."
   ]
  },
  {
   "cell_type": "code",
   "execution_count": 10,
   "metadata": {
    "ExecuteTime": {
     "end_time": "2021-01-23T17:10:14.028284Z",
     "start_time": "2021-01-23T17:10:11.983778Z"
    }
   },
   "outputs": [
    {
     "name": "stderr",
     "output_type": "stream",
     "text": [
      "/home/oswald/anaconda3/lib/python3.8/site-packages/pandas/core/strings.py:1954: UserWarning: This pattern has match groups. To actually get the groups, use str.extract.\n",
      "  return func(self, *args, **kwargs)\n"
     ]
    },
    {
     "name": "stdout",
     "output_type": "stream",
     "text": [
      "Contraseñas cortas:\n",
      "2147\n",
      "Suma del uso de contraseñas cortas\n",
      "1977061\n"
     ]
    }
   ],
   "source": [
    "special_chars = ['!','\"','#','<','>','%','&','/','=',\n",
    "                '(\\?)','(\\()','(\\))',\"'\",'¡','¿','(\\+)','~',']','}',\n",
    "                '(\\[)','{',',',';',':','(\\.)','_','-','(\\*)','(\\^)']\n",
    "\n",
    "special_chars = '|'.join(special_chars)\n",
    "special_pass = data[data['password'].str.contains(special_chars) == True].count()[0]\n",
    "special_pass_count_sum = data[data['password'].str.contains(special_chars) == True]['count'].sum()\n",
    "\n",
    "print('Contraseñas cortas:')\n",
    "print(special_pass)\n",
    "print('Suma del uso de contraseñas cortas')\n",
    "print(special_pass_count_sum)\n",
    "\n",
    "data_patrones += 'Special Characters', special_pass, special_pass_count_sum"
   ]
  },
  {
   "cell_type": "markdown",
   "metadata": {},
   "source": [
    "El siguiente paso es convertir las letras de cada contraseña a algún número, esto lo hacemos primero asignando cada carácter de la contraseña en ASCII y después estandarizando los tamaños, es decir dado que la contraseña que tiene mayor número de carácteres es 27, todas las contraseñas las codificaremos a un vector de tamaño 27 de manera que también le asignaremos un carácter que representa 'el espacio vacío' de manera que una vez codificados los distintos carácteres de una contraseña, las dimensiones restantes para sumar 27, corresponderán a un valor `-1` que representa que la contraseña no tiene carácteres en esa posición"
   ]
  },
  {
   "cell_type": "code",
   "execution_count": 11,
   "metadata": {
    "ExecuteTime": {
     "end_time": "2021-01-23T17:10:16.830847Z",
     "start_time": "2021-01-23T17:10:14.029156Z"
    }
   },
   "outputs": [
    {
     "data": {
      "text/plain": [
       "(677566, 27)"
      ]
     },
     "execution_count": 11,
     "metadata": {},
     "output_type": "execute_result"
    }
   ],
   "source": [
    "from copy import copy\n",
    "\n",
    "\n",
    "passes = copy(data.iloc[:,0].values.tolist())\n",
    "\n",
    "max_len_pass = 0 # Vamos guardando la longitud de contraseña más grande\n",
    "min_string = 1000 # Guardamos el ASCII más pequeño que nos encontramos\n",
    "\n",
    "for i in range(len(passes)):\n",
    "    passes[i] = list(map(ord,list(passes[i])))\n",
    "    if len(passes[i]) > max_len_pass:\n",
    "        max_len_pass = len(passes[i])\n",
    "    \n",
    "    for letter_ascii in passes[i]:\n",
    "        if letter_ascii < min_string:\n",
    "            min_string = letter_ascii\n",
    "\n",
    "min_string -= 1 # min_string será el valor para el espacio vacío\n",
    "\n",
    "for i in range(len(passes)):\n",
    "    n = len(passes[i])\n",
    "    #Llenamos cada contraseña para que tengan la misma longitud\n",
    "    passes[i] = passes[i] + [min_string]*(max_len_pass-len(passes[i]))\n",
    "    \n",
    "    \n",
    "passes = np.array(passes)\n",
    "passes.shape"
   ]
  },
  {
   "cell_type": "markdown",
   "metadata": {},
   "source": [
    "Enseguida hacemos un escalamiento para estas contraseñas con `MinMaxScaler`"
   ]
  },
  {
   "cell_type": "code",
   "execution_count": 12,
   "metadata": {
    "ExecuteTime": {
     "end_time": "2021-01-23T17:10:17.092496Z",
     "start_time": "2021-01-23T17:10:16.831989Z"
    }
   },
   "outputs": [
    {
     "data": {
      "text/plain": [
       "array([[ True,  True,  True,  True,  True,  True,  True,  True,  True,\n",
       "         True,  True,  True,  True,  True,  True,  True,  True,  True,\n",
       "         True,  True,  True,  True,  True,  True,  True,  True,  True]])"
      ]
     },
     "execution_count": 12,
     "metadata": {},
     "output_type": "execute_result"
    }
   ],
   "source": [
    "from sklearn.preprocessing import MinMaxScaler\n",
    "\n",
    "ms = MinMaxScaler()\n",
    "passes_std = ms.fit_transform(passes.reshape(-1,27))\n",
    "\n",
    "def password_to_encode(password):\n",
    "    '''\n",
    "    Función que dada una contraseña, devuelve el encoding acomodado al tratamiento\n",
    "    que tuvieron los datos de este documento.\n",
    "    --------------------------------------------------------------\n",
    "    :param password str: Cadena de texto que contiene la contraseña a convertir\n",
    "    \n",
    "    :returns array: Vector 27-dimensional codificado. \n",
    "    '''\n",
    "    pass_vector = list(map(ord,list(password)))\n",
    "    pass_vector += [min_string]*(max_len_pass-len(pass_vector))\n",
    "    pass_vector = np.array(pass_vector)\n",
    "    pass_vector = ms.transform(pass_vector.reshape(-1,27))\n",
    "    \n",
    "    return pass_vector\n",
    "    \n",
    "password_to_encode(data.iloc[:,0].values[0]) == passes_std[0]"
   ]
  },
  {
   "cell_type": "markdown",
   "metadata": {},
   "source": [
    "Ahora procederemos a asignarle a cada contraseña un score de seguridad, dividiendo en intervalos uniformes el conjunto según su ordenamiento ya hecho."
   ]
  },
  {
   "cell_type": "markdown",
   "metadata": {},
   "source": [
    "Para esto, se asigna una puntuación a las contraseñas en función a su posicionamiento en el escalamiento, siendo aquellos que se encuentran en la cola inferior, los que tienen peor seguridad, mientras los que estén en la cola superior, tendrán un score de 30, la máxima seguridad."
   ]
  },
  {
   "cell_type": "code",
   "execution_count": 13,
   "metadata": {
    "ExecuteTime": {
     "end_time": "2021-01-23T17:10:17.214828Z",
     "start_time": "2021-01-23T17:10:17.094136Z"
    }
   },
   "outputs": [
    {
     "name": "stdout",
     "output_type": "stream",
     "text": [
      "677550\n",
      "\n"
     ]
    }
   ],
   "source": [
    "n = 30\n",
    "intervalo = passes_std.shape[0]//n\n",
    "\n",
    "pass_security = np.zeros(len(passes))\n",
    "intervalo_idx = 0\n",
    "for i in range(n):\n",
    "    for j in range(intervalo_idx,intervalo_idx+intervalo):\n",
    "        pass_security[j] = i\n",
    "        intervalo_idx += 1\n",
    "print(intervalo_idx)\n",
    "for j in range(intervalo_idx,len(passes_std)):\n",
    "    pass_security[j] = n\n",
    "pass_security = pass_security.astype(int)   \n",
    "\n",
    "print()\n"
   ]
  },
  {
   "cell_type": "code",
   "execution_count": 14,
   "metadata": {
    "ExecuteTime": {
     "end_time": "2021-01-23T17:10:17.218412Z",
     "start_time": "2021-01-23T17:10:17.215916Z"
    }
   },
   "outputs": [
    {
     "name": "stdout",
     "output_type": "stream",
     "text": [
      "[29 29 29 29 29 29 29 29 29 29 29 29 29 29 30 30 30 30 30 30 30 30 30 30\n",
      " 30 30 30 30 30 30]\n"
     ]
    }
   ],
   "source": [
    "print(pass_security[-30:])"
   ]
  },
  {
   "cell_type": "markdown",
   "metadata": {},
   "source": [
    "Así, tenemos que las contraseñas se ven de la siguiente manera:"
   ]
  },
  {
   "cell_type": "code",
   "execution_count": 15,
   "metadata": {
    "ExecuteTime": {
     "end_time": "2021-01-23T17:10:17.235768Z",
     "start_time": "2021-01-23T17:10:17.219644Z"
    }
   },
   "outputs": [
    {
     "name": "stdout",
     "output_type": "stream",
     "text": [
      "\n",
      "Password :!!!!!\n",
      "Codificacion: \n",
      "[0.17204301 0.19148936 0.20212766 0.21276596 0.22340426 0.23404255\n",
      " 0.25555556 0.25806452 0.27777778 0.         0.         0.\n",
      " 0.         0.         0.         0.         0.         0.\n",
      " 0.         0.         0.         0.         0.         0.\n",
      " 0.         0.         0.        ]    \n",
      "Security : \n",
      "0\n",
      "\n"
     ]
    }
   ],
   "source": [
    "print(f'''\n",
    "Password :{data.iloc[:,0][0]}\n",
    "Codificacion: \n",
    "{passes_std[0]}    \n",
    "Security : \n",
    "{pass_security[0]}\n",
    "''')"
   ]
  },
  {
   "cell_type": "code",
   "execution_count": 16,
   "metadata": {
    "ExecuteTime": {
     "end_time": "2021-01-23T17:10:17.239278Z",
     "start_time": "2021-01-23T17:10:17.236817Z"
    }
   },
   "outputs": [
    {
     "name": "stdout",
     "output_type": "stream",
     "text": [
      "\n"
     ]
    }
   ],
   "source": [
    "'''\n",
    "aux1 = pass_security[:]\n",
    "aux2 = passes_std[:]\n",
    "n = passwords[passwords.Security==1].count()[0]\n",
    "idx_inicio = 0\n",
    "inicio = 0\n",
    "List = passwords.Security.unique()\n",
    "print(pass_security.shape)\n",
    "m = len(passwords.Security.unique())\n",
    "while len(pass_security)< n*m:\n",
    "        #print(len(pass_security)-n*m)\n",
    "        \n",
    "        for i in range(idx_inicio,passwords.Security.count()):\n",
    "            if aux1[i] != inicio:\n",
    "                fin = List[inicio+1]\n",
    "                \n",
    "                idx_fin = i\n",
    "                print(idx_inicio, idx_fin,n//(idx_fin-idx_inicio))\n",
    "                if inicio != 1:\n",
    "                    elemento_agregar1 = np.tile(aux1[idx_inicio:idx_fin],n//(idx_fin-idx_inicio))\n",
    "                    elemento_agregar2 = np.vstack([aux2[idx_inicio:idx_fin]]*(n//(idx_fin-idx_inicio)))\n",
    "\n",
    "                    pass_security = np.concatenate((pass_security,elemento_agregar1))\n",
    "                    passes_std = np.concatenate((passes_std,elemento_agregar2))\n",
    "                break\n",
    "        inicio = fin\n",
    "        idx_inicio = idx_fin\n",
    "'''\n",
    "print()"
   ]
  },
  {
   "cell_type": "markdown",
   "metadata": {},
   "source": [
    "Pasamos la seguridad a OHE:"
   ]
  },
  {
   "cell_type": "code",
   "execution_count": 17,
   "metadata": {
    "ExecuteTime": {
     "end_time": "2021-01-23T17:10:17.355356Z",
     "start_time": "2021-01-23T17:10:17.240522Z"
    }
   },
   "outputs": [],
   "source": [
    "\n",
    "from sklearn.preprocessing import OneHotEncoder\n",
    "\n",
    "pass_security = pass_security.reshape(-1,1)\n",
    "ohe = OneHotEncoder()\n",
    "pass_security = ohe.fit_transform(pass_security).toarray()"
   ]
  },
  {
   "cell_type": "markdown",
   "metadata": {},
   "source": [
    "Dividimos en set de entrenamiento y validación"
   ]
  },
  {
   "cell_type": "code",
   "execution_count": 18,
   "metadata": {
    "ExecuteTime": {
     "end_time": "2021-01-23T17:10:17.597092Z",
     "start_time": "2021-01-23T17:10:17.356480Z"
    }
   },
   "outputs": [],
   "source": [
    "from sklearn.model_selection import train_test_split\n",
    "\n",
    "X_train, X_test, y_train, y_test = train_test_split(passes_std, pass_security, test_size=0.2)"
   ]
  },
  {
   "cell_type": "code",
   "execution_count": 19,
   "metadata": {
    "ExecuteTime": {
     "end_time": "2021-01-23T17:10:17.603110Z",
     "start_time": "2021-01-23T17:10:17.598921Z"
    }
   },
   "outputs": [
    {
     "data": {
      "text/plain": [
       "(542052, 27)"
      ]
     },
     "execution_count": 19,
     "metadata": {},
     "output_type": "execute_result"
    }
   ],
   "source": [
    "X_train.shape"
   ]
  },
  {
   "cell_type": "code",
   "execution_count": 20,
   "metadata": {
    "ExecuteTime": {
     "end_time": "2021-01-23T17:10:17.607863Z",
     "start_time": "2021-01-23T17:10:17.604647Z"
    }
   },
   "outputs": [
    {
     "data": {
      "text/plain": [
       "(542052, 31)"
      ]
     },
     "execution_count": 20,
     "metadata": {},
     "output_type": "execute_result"
    }
   ],
   "source": [
    "y_train.shape"
   ]
  },
  {
   "cell_type": "code",
   "execution_count": 21,
   "metadata": {
    "ExecuteTime": {
     "end_time": "2021-01-23T17:10:17.611904Z",
     "start_time": "2021-01-23T17:10:17.609454Z"
    }
   },
   "outputs": [],
   "source": [
    "import torch\n",
    "import torch.nn as nn\n",
    "import torch.optim as optim"
   ]
  },
  {
   "cell_type": "markdown",
   "metadata": {},
   "source": [
    "Definimos la red neuronal:"
   ]
  },
  {
   "cell_type": "code",
   "execution_count": 22,
   "metadata": {
    "ExecuteTime": {
     "end_time": "2021-01-23T17:10:17.629923Z",
     "start_time": "2021-01-23T17:10:17.613558Z"
    }
   },
   "outputs": [],
   "source": [
    "class Pass_net(nn.Module):\n",
    "    '''\n",
    "    Definimos un modelo de red neuronal sobre el cual podamos \n",
    "    evaluar la exactitud del modelo.\n",
    "    '''\n",
    "    def __init__(self, in_features, hidden1, hidden2, out_features):\n",
    "        '''\n",
    "        Estructura de la red neuronal a utilizar.\n",
    "        -----------------------------------------\n",
    "        :param in_features int: Neuronas de entrada\n",
    "        :param hidden1 int: Neuronas en la primer capa oculta\n",
    "        :param hidden2 int: Neuronas en la segunda capa oculta\n",
    "        :param out_features: Neuronas de salida\n",
    "        '''\n",
    "        super(Pass_net,self).__init__()\n",
    "        \n",
    "        self.fc1 = nn.Linear(in_features = in_features, out_features = hidden1,bias = False)\n",
    "        self.fc2 = nn.Linear(in_features = hidden1, out_features = hidden2,bias = False)\n",
    "        self.fc3 = nn.Linear(in_features = hidden2, out_features= out_features,bias = False)\n",
    "        \n",
    "        self.in_features = in_features\n",
    "        self.hidden1 = hidden1\n",
    "        self.hidden2 = hidden2\n",
    "        self.out_features = out_features\n",
    "        \n",
    "\n",
    "        \n",
    "        \n",
    "    def forward(self, X):\n",
    "        '''\n",
    "        Función feed-forward con activación sigmoide entre capas.\n",
    "        ---------------------------------------------------------\n",
    "        :param X [float]: Vector o matriz de neuronas de entrada .\n",
    "        \n",
    "        :returns [float]: Activaciones de la red en la última capa.\n",
    "        '''\n",
    "        capa_oculta1 = torch.sigmoid(self.fc1(X))\n",
    "        capa_oculta2 = torch.sigmoid(self.fc2(capa_oculta1))\n",
    "        salida = torch.sigmoid(self.fc3(capa_oculta2))\n",
    "        \n",
    "        return salida\n",
    "\n",
    "\n",
    "    def back_propagate(self, X, Y):\n",
    "        '''\n",
    "        Función que hace un paso de backpropagation con la entrada X con salida correcta Y,\n",
    "        Como la función de activación sigmoide ronda entre valores del 0 y 1, esta nunca los\n",
    "        va a tocar, es por ello que consideramos un truncamiento en los valores 0.2,0.8 de tal\n",
    "        manera que aquellos valores antes del primero, no se activarán (0) y después del segundo, \n",
    "        se activarán (1). Utiliza función de error cuadrada.\n",
    "        -----------------------------------------------------------------------\n",
    "        :param X [float]: Matriz o Vector de neuronas de entrada\n",
    "        :param Y [float]: Matriz o Vector a predecir con la entrada X\n",
    "        \n",
    "        :returns [float]: Error de gradiente\n",
    "        '''\n",
    "        salida = self.forward(X)\n",
    "        funcion_error = nn.MSELoss()\n",
    "        \n",
    "        error = funcion_error(torch.clamp(salida,0.1,0.9),\n",
    "                               torch.clamp(Y,0.1,0.9))\n",
    "                    \n",
    "        error.backward()\n",
    "        \n",
    "        return error\n",
    "        \n",
    "    def train(self, train_X, train_Y, optimizer, ciclos=100):\n",
    "        '''\n",
    "        Función de entrenamiento para la red, la cual utiliza al conjunto\n",
    "        de entrenamiento y la función de error definida en la función\n",
    "        back_propagate(). Al finalizar, muestra una gráfica del error\n",
    "        ------------------------------------------------------------\n",
    "        :param train_X [float]: Datos de entrenamiento\n",
    "        :param train_Y [float]: Etiquetas correspondientes a los datos\n",
    "                                de entrenamiento.\n",
    "        :param optimizar torch.optim: Algoritmo de optimización\n",
    "        :ciclos int: Número de épocas de entrenamiento\n",
    "        \n",
    "        '''\n",
    "        self.optimizer = optimizer\n",
    "        criterio = torch.nn.MSELoss()\n",
    "        errores = np.zeros(ciclos)\n",
    "        \n",
    "        for ciclo in range(ciclos):\n",
    "            y_pred = self.forward(train_X)\n",
    "            perdida = criterio(torch.clamp(y_pred,0.1,0.9),\n",
    "                               torch.clamp(train_Y,0.1,0.9))\n",
    "            errores[ciclo] = perdida.item()\n",
    "            if ciclo%int(ciclos/15)==1:\n",
    "                print(f'Errores al paso {ciclo}: {errores[ciclo]}')\n",
    "            \n",
    "            self.optimizer.zero_grad()\n",
    "            self.back_propagate(train_X,train_Y)\n",
    "            self.optimizer.step()\n",
    "            \n",
    "        if ciclos > 1:\n",
    "            pasos = np.arange(ciclos)\n",
    "            plt.plot(pasos, errores, label='Entrenamiento')\n",
    "\n",
    "    def confusion(self, test_X, test_Y):\n",
    "        '''\n",
    "        Muestra la matriz de confusión que presenta los valores actuales de\n",
    "        la red, respecto al conjunto de datos que se decida usar.\n",
    "        '''\n",
    "        \n",
    "        y_pred = self.forward(test_X)\n",
    "        #print(y_pred[:20])\n",
    "        labels = []\n",
    "        for salida in y_pred:\n",
    "            label = []\n",
    "            max_idx = max(salida)\n",
    "            \n",
    "            for i in range(7):\n",
    "                if salida[i] == max_idx:\n",
    "                    label.append(1.)\n",
    "                else:\n",
    "                    label.append(0.)\n",
    "            labels.append(label)\n",
    "\n",
    "        VP = 0\n",
    "        VN = 0\n",
    "        FP = 0\n",
    "        FN = 0\n",
    "        \n",
    "        for i in range(len(test_Y)):\n",
    "\n",
    "            if all(torch.tensor(labels[i])==test_Y[i]):\n",
    "                VP += 1\n",
    "                VN += 6\n",
    "            else:\n",
    "                FP += 1\n",
    "                FN += 1\n",
    "                VN += 5\n",
    "            \n",
    "        print(\n",
    "        \"\"\"\n",
    "    VP ={:.<5}    FN={:.<5}\n",
    "    FP ={:.<5}    VN={:.<5}\n",
    "    \n",
    "            \"\"\".format(VP,FN,FP,VN)) \n",
    "        "
   ]
  },
  {
   "cell_type": "code",
   "execution_count": 36,
   "metadata": {
    "ExecuteTime": {
     "end_time": "2021-01-23T17:13:57.400682Z",
     "start_time": "2021-01-23T17:13:57.393262Z"
    }
   },
   "outputs": [],
   "source": [
    "input_size = X_train.shape[1]\n",
    "output_size = y_train.shape[1]"
   ]
  },
  {
   "cell_type": "markdown",
   "metadata": {},
   "source": [
    "Inicializamos la red:"
   ]
  },
  {
   "cell_type": "code",
   "execution_count": 41,
   "metadata": {
    "ExecuteTime": {
     "end_time": "2021-01-23T17:19:55.597222Z",
     "start_time": "2021-01-23T17:19:55.589652Z"
    }
   },
   "outputs": [
    {
     "name": "stdout",
     "output_type": "stream",
     "text": [
      "CUDA: False\n"
     ]
    }
   ],
   "source": [
    "Net = Pass_net(input_size,45,35,output_size)\n",
    "\n",
    "print('CUDA:',torch.cuda.is_available())\n",
    "device = torch.device(\"cuda:0\" if torch.cuda.is_available() else \"cpu\")\n",
    "Net = Net.to(device)"
   ]
  },
  {
   "cell_type": "code",
   "execution_count": 42,
   "metadata": {
    "ExecuteTime": {
     "end_time": "2021-01-23T17:20:05.831860Z",
     "start_time": "2021-01-23T17:20:05.825614Z"
    }
   },
   "outputs": [
    {
     "name": "stdout",
     "output_type": "stream",
     "text": [
      "[Errno 2] No such file or directory: './red_neruonal_multicapa.pth'\n",
      "Modelo nuevo.\n"
     ]
    }
   ],
   "source": [
    "try:\n",
    "    std_dict = torch.load('./red_neruonal_multicapa.pth', map_location=device)\n",
    "    RedCIFAR.load_state_dict(std_dict)\n",
    "    print(\"Modelo cargado.\")\n",
    "except Exception as e:\n",
    "    print(e)\n",
    "    print(\"Modelo nuevo.\")"
   ]
  },
  {
   "cell_type": "code",
   "execution_count": 43,
   "metadata": {
    "ExecuteTime": {
     "end_time": "2021-01-23T17:29:21.964099Z",
     "start_time": "2021-01-23T17:21:20.311050Z"
    }
   },
   "outputs": [
    {
     "name": "stderr",
     "output_type": "stream",
     "text": [
      "<ipython-input-43-88dbb5280b25>:1: UserWarning: To copy construct from a tensor, it is recommended to use sourceTensor.clone().detach() or sourceTensor.clone().detach().requires_grad_(True), rather than torch.tensor(sourceTensor).\n",
      "  y_train = torch.tensor(y_train).detach().clone().type(torch.float).to(device)\n",
      "<ipython-input-43-88dbb5280b25>:2: UserWarning: To copy construct from a tensor, it is recommended to use sourceTensor.clone().detach() or sourceTensor.clone().detach().requires_grad_(True), rather than torch.tensor(sourceTensor).\n",
      "  X_train = torch.tensor(X_train).detach().clone().type(torch.float).to(device)\n",
      "<ipython-input-43-88dbb5280b25>:3: UserWarning: To copy construct from a tensor, it is recommended to use sourceTensor.clone().detach() or sourceTensor.clone().detach().requires_grad_(True), rather than torch.tensor(sourceTensor).\n",
      "  X_test = torch.tensor(X_test).detach().clone().type(torch.float).to(device)\n",
      "<ipython-input-43-88dbb5280b25>:4: UserWarning: To copy construct from a tensor, it is recommended to use sourceTensor.clone().detach() or sourceTensor.clone().detach().requires_grad_(True), rather than torch.tensor(sourceTensor).\n",
      "  y_test = torch.tensor(y_test).detach().clone().type(torch.float).to(device)\n"
     ]
    },
    {
     "name": "stdout",
     "output_type": "stream",
     "text": [
      "Errores al paso 1: 0.17705972492694855\n",
      "Errores al paso 67: 0.1437937468290329\n",
      "Errores al paso 133: 0.11899742484092712\n",
      "Errores al paso 199: 0.10043875128030777\n",
      "Errores al paso 265: 0.08649174869060516\n",
      "Errores al paso 331: 0.07596338540315628\n",
      "Errores al paso 397: 0.06797188520431519\n",
      "Errores al paso 463: 0.061865612864494324\n",
      "Errores al paso 529: 0.05716481804847717\n",
      "Errores al paso 595: 0.05351727455854416\n",
      "Errores al paso 661: 0.050664421170949936\n",
      "Errores al paso 727: 0.048415910452604294\n",
      "Errores al paso 793: 0.046630844473838806\n",
      "Errores al paso 859: 0.04520415514707565\n",
      "Errores al paso 925: 0.04405687376856804\n",
      "Errores al paso 991: 0.04312907159328461\n",
      "Modelo Guardado\n"
     ]
    },
    {
     "data": {
      "image/png": "[encoded data removed]",
      "text/plain": [
       "<Figure size 432x288 with 1 Axes>"
      ]
     },
     "metadata": {
      "needs_background": "light"
     },
     "output_type": "display_data"
    }
   ],
   "source": [
    "y_train = torch.tensor(y_train).detach().clone().type(torch.float).to(device)\n",
    "X_train = torch.tensor(X_train).detach().clone().type(torch.float).to(device)\n",
    "X_test = torch.tensor(X_test).detach().clone().type(torch.float).to(device)\n",
    "y_test = torch.tensor(y_test).detach().clone().type(torch.float).to(device)\n",
    "\n",
    "optimizer = optim.SGD(Net.parameters(),lr =0.05, momentum=0.05, weight_decay=0.02)\n",
    "\n",
    "Net.train(X_train,y_train,optimizer,ciclos=1000)\n",
    "\n",
    "torch.save(Net.state_dict(),\"./red_neruonal_multicapa.pth\")\n",
    "print(\"Modelo Guardado\")"
   ]
  },
  {
   "cell_type": "markdown",
   "metadata": {},
   "source": [
    "Ahora vemos la exactitud del modelo:"
   ]
  },
  {
   "cell_type": "code",
   "execution_count": 48,
   "metadata": {
    "ExecuteTime": {
     "end_time": "2021-01-23T17:33:02.394932Z",
     "start_time": "2021-01-23T17:32:59.314507Z"
    }
   },
   "outputs": [
    {
     "name": "stdout",
     "output_type": "stream",
     "text": [
      "Predicciones:\n",
      "tensor(11)\n",
      "tensor(11)\n",
      "tensor(11)\n",
      "tensor(11)\n",
      "tensor(11)\n",
      "tensor(11)\n",
      "tensor(11)\n",
      "tensor(11)\n",
      "tensor(11)\n",
      "tensor(11)\n",
      "Etiquetas\n",
      "tensor(28)\n",
      "tensor(25)\n",
      "tensor(16)\n",
      "tensor(24)\n",
      "tensor(10)\n",
      "tensor(21)\n",
      "tensor(28)\n",
      "tensor(15)\n",
      "tensor(16)\n",
      "tensor(3)\n"
     ]
    }
   ],
   "source": [
    "print('Predicciones:')\n",
    "for train in Net.forward(X_train[:10]):\n",
    "    print(torch.argmax(train))\n",
    "print('Etiquetas')\n",
    "for test in y_test[:10]:\n",
    "    print(torch.argmax(test))\n",
    "\n",
    "suma = 0\n",
    "for predicted,correct in zip(Net.forward(X_test),y_test):\n",
    "    suma += torch.argmax(predicted)==torch.argmax(correct)"
   ]
  },
  {
   "cell_type": "code",
   "execution_count": 49,
   "metadata": {
    "ExecuteTime": {
     "end_time": "2021-01-23T17:33:07.152414Z",
     "start_time": "2021-01-23T17:33:07.141657Z"
    }
   },
   "outputs": [
    {
     "name": "stdout",
     "output_type": "stream",
     "text": [
      "Exactitud del modelo:  tensor(0.0331)\n"
     ]
    }
   ],
   "source": [
    "print('Exactitud del modelo: ',suma/len(y_test))"
   ]
  },
  {
   "cell_type": "markdown",
   "metadata": {
    "ExecuteTime": {
     "end_time": "2021-01-23T17:10:18.453246Z",
     "start_time": "2021-01-23T17:10:04.529Z"
    }
   },
   "source": [
    "Por lo visto, no es tan útil este modelo pues se inclina a predecir la mitad de seguridad, esto es de esperarse pues no identifica la utilidad de las secuencias y minimiza el error estando en el centroide."
   ]
  }
 ],
 "metadata": {
  "hide_input": false,
  "kernelspec": {
   "display_name": "Python 3",
   "language": "python",
   "name": "python3"
  },
  "language_info": {
   "codemirror_mode": {
    "name": "ipython",
    "version": 3
   },
   "file_extension": ".py",
   "mimetype": "text/x-python",
   "name": "python",
   "nbconvert_exporter": "python",
   "pygments_lexer": "ipython3",
   "version": "3.8.3"
  },
  "varInspector": {
   "cols": {
    "lenName": 16,
    "lenType": 16,
    "lenVar": 40
   },
   "kernels_config": {
    "python": {
     "delete_cmd_postfix": "",
     "delete_cmd_prefix": "del ",
     "library": "var_list.py",
     "varRefreshCmd": "print(var_dic_list())"
    },
    "r": {
     "delete_cmd_postfix": ") ",
     "delete_cmd_prefix": "rm(",
     "library": "var_list.r",
     "varRefreshCmd": "cat(var_dic_list()) "
    }
   },
   "types_to_exclude": [
    "module",
    "function",
    "builtin_function_or_method",
    "instance",
    "_Feature"
   ],
   "window_display": false
  }
 },
 "nbformat": 4,
 "nbformat_minor": 4
}
